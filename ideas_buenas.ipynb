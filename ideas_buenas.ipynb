{
 "cells": [
  {
   "cell_type": "code",
   "execution_count": 1,
   "id": "1642273c",
   "metadata": {},
   "outputs": [],
   "source": [
    "import sympy as sp\n",
    "\n",
    "# Variable dummy Nc (numero de componentes)\n",
    "nc = sp.symbols(\"Nc\", integer=True)\n",
    "\n",
    "# Indices\n",
    "# Para derivadas de n\n",
    "i = sp.symbols(\"i\", cls=sp.Idx)\n",
    "j = sp.symbols(\"j\", cls=sp.Idx)\n",
    "\n",
    "# Indices para variables\n",
    "k = sp.symbols(\"k\", cls=sp.Idx)\n",
    "l = sp.symbols(\"l\", cls=sp.Idx)\n",
    "\n",
    "# Variables\n",
    "n = sp.IndexedBase(\"n\", shape=(nc,))\n",
    "T = sp.symbols(\"T\")\n",
    "V = sp.symbols(\"V\")\n",
    "\n",
    "\n",
    "r = sp.IndexedBase('r')\n",
    "q = sp.IndexedBase('q')\n",
    "\n",
    "a = sp.IndexedBase('a')\n",
    "b = sp.IndexedBase('b')\n",
    "\n",
    "# Definimos φ_k como función general\n",
    "phi = sp.Function('phi')\n",
    "\n",
    "# Expresión: φ_k = phi(n[k], T, P)\n",
    "phi_k = phi(n[k], T)"
   ]
  },
  {
   "cell_type": "code",
   "execution_count": 2,
   "id": "c8e2fc88",
   "metadata": {},
   "outputs": [],
   "source": [
    "def make_chad_function(name):\n",
    "    return type(name, (sp.Function,), {\n",
    "        '_eval_derivative': lambda self, s: sp.Derivative(self, s, evaluate=False),\n",
    "        '__doc__': f\"Simbolic function {name} with lazy derivative\",\n",
    "    })"
   ]
  },
  {
   "cell_type": "code",
   "execution_count": 3,
   "id": "456fabd1",
   "metadata": {},
   "outputs": [],
   "source": [
    "phi_k = make_chad_function(r\"\\phi\")(n[k], T)"
   ]
  },
  {
   "cell_type": "code",
   "execution_count": 4,
   "id": "33a8bef9",
   "metadata": {},
   "outputs": [
    {
     "data": {
      "text/latex": [
       "$\\displaystyle \\frac{\\partial}{\\partial T} \\phi{\\left({n}_{k},T \\right)}$"
      ],
      "text/plain": [
       "Derivative(\\phi(n[k], T), T)"
      ]
     },
     "execution_count": 4,
     "metadata": {},
     "output_type": "execute_result"
    }
   ],
   "source": [
    "sp.diff(phi_k, T)"
   ]
  },
  {
   "cell_type": "code",
   "execution_count": 5,
   "id": "00c5bb22",
   "metadata": {},
   "outputs": [
    {
     "data": {
      "text/latex": [
       "$\\displaystyle \\frac{\\partial}{\\partial {n}_{j}} \\phi{\\left({n}_{k},T \\right)}$"
      ],
      "text/plain": [
       "Derivative(\\phi(n[k], T), n[j])"
      ]
     },
     "execution_count": 5,
     "metadata": {},
     "output_type": "execute_result"
    }
   ],
   "source": [
    "sp.diff(phi_k, n[j])"
   ]
  },
  {
   "cell_type": "code",
   "execution_count": 6,
   "id": "aae64508",
   "metadata": {},
   "outputs": [],
   "source": [
    "expr = sp.Sum(n[k] * phi_k, (k, 1, nc))"
   ]
  },
  {
   "cell_type": "code",
   "execution_count": 7,
   "id": "e9b25b31",
   "metadata": {},
   "outputs": [
    {
     "data": {
      "text/latex": [
       "$\\displaystyle \\sum_{k=1}^{Nc} \\phi{\\left({n}_{k},T \\right)} {n}_{k}$"
      ],
      "text/plain": [
       "Sum(\\phi(n[k], T)*n[k], (k, 1, Nc))"
      ]
     },
     "execution_count": 7,
     "metadata": {},
     "output_type": "execute_result"
    }
   ],
   "source": [
    "expr"
   ]
  },
  {
   "cell_type": "code",
   "execution_count": 8,
   "id": "8c5358a8",
   "metadata": {},
   "outputs": [
    {
     "data": {
      "text/latex": [
       "$\\displaystyle \\sum_{k=1}^{Nc} \\frac{\\partial}{\\partial T} \\phi{\\left({n}_{k},T \\right)} {n}_{k}$"
      ],
      "text/plain": [
       "Sum(Derivative(\\phi(n[k], T), T)*n[k], (k, 1, Nc))"
      ]
     },
     "execution_count": 8,
     "metadata": {},
     "output_type": "execute_result"
    }
   ],
   "source": [
    "sp.diff(expr, T)"
   ]
  },
  {
   "cell_type": "code",
   "execution_count": 9,
   "id": "1220b0d1",
   "metadata": {},
   "outputs": [
    {
     "data": {
      "text/latex": [
       "$\\displaystyle \\sum_{k=1}^{Nc} \\left(\\phi{\\left({n}_{k},T \\right)} \\delta_{j k} + \\frac{\\partial}{\\partial {n}_{j}} \\phi{\\left({n}_{k},T \\right)} {n}_{k}\\right)$"
      ],
      "text/plain": [
       "Sum(\\phi(n[k], T)*KroneckerDelta(j, k) + Derivative(\\phi(n[k], T), n[j])*n[k], (k, 1, Nc))"
      ]
     },
     "execution_count": 9,
     "metadata": {},
     "output_type": "execute_result"
    }
   ],
   "source": [
    "sp.diff(expr, n[j])"
   ]
  },
  {
   "cell_type": "code",
   "execution_count": 10,
   "id": "9f89839b",
   "metadata": {},
   "outputs": [
    {
     "data": {
      "text/latex": [
       "$\\displaystyle \\phi{\\left({n}_{j},T \\right)} + \\sum_{k=1}^{Nc} \\frac{\\partial}{\\partial {n}_{j}} \\phi{\\left({n}_{k},T \\right)} {n}_{k}$"
      ],
      "text/plain": [
       "\\phi(n[j], T) + Sum(Derivative(\\phi(n[k], T), n[j])*n[k], (k, 1, Nc))"
      ]
     },
     "execution_count": 10,
     "metadata": {},
     "output_type": "execute_result"
    }
   ],
   "source": [
    "sp.diff(expr, n[j]).doit().subs({j >= 1: True, nc >= j: True})"
   ]
  }
 ],
 "metadata": {
  "kernelspec": {
   "display_name": "thermodiff",
   "language": "python",
   "name": "python3"
  },
  "language_info": {
   "codemirror_mode": {
    "name": "ipython",
    "version": 3
   },
   "file_extension": ".py",
   "mimetype": "text/x-python",
   "name": "python",
   "nbconvert_exporter": "python",
   "pygments_lexer": "ipython3",
   "version": "3.12.11"
  }
 },
 "nbformat": 4,
 "nbformat_minor": 5
}

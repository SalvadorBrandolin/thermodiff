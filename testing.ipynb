{
 "cells": [
  {
   "cell_type": "code",
   "execution_count": 27,
   "id": "cc9bf0af",
   "metadata": {},
   "outputs": [],
   "source": [
    "from thermodiff import nc, i, j, k, l, m, n, T, V\n",
    "\n",
    "import thermodiff as td\n",
    "\n",
    "import sympy as sp"
   ]
  },
  {
   "cell_type": "code",
   "execution_count": 2,
   "id": "2f17d351",
   "metadata": {},
   "outputs": [
    {
     "data": {
      "text/latex": [
       "$\\displaystyle \\sum_{k=1}^{N_{c}} \\phi{\\left({n}_{k} \\right)} {n}_{k}$"
      ],
      "text/plain": [
       "Sum(\\phi(n[k])*n[k], (k, 1, N_c))"
      ]
     },
     "execution_count": 2,
     "metadata": {},
     "output_type": "execute_result"
    }
   ],
   "source": [
    "phi_k = td.IdxFunction(r\"\\phi\")(n[k])\n",
    "\n",
    "expr = td.SumComponents(phi_k * n[k], k)\n",
    "\n",
    "expr"
   ]
  },
  {
   "cell_type": "code",
   "execution_count": 3,
   "id": "405f9fda",
   "metadata": {},
   "outputs": [
    {
     "data": {
      "text/latex": [
       "$\\displaystyle \\phi{\\left({n}_{i} \\right)} + \\sum_{k=1}^{N_{c}} \\frac{\\partial}{\\partial {n}_{i}} \\phi{\\left({n}_{k} \\right)} {n}_{k}$"
      ],
      "text/plain": [
       "\\phi(n[i]) + Sum(Derivative(\\phi(n[k]), n[i])*n[k], (k, 1, N_c))"
      ]
     },
     "execution_count": 3,
     "metadata": {},
     "output_type": "execute_result"
    }
   ],
   "source": [
    "diff = td.handle_sum_kronecker(sp.diff(expr, n[i]), i)\n",
    "\n",
    "diff"
   ]
  },
  {
   "cell_type": "code",
   "execution_count": 4,
   "id": "8235f1b1",
   "metadata": {},
   "outputs": [
    {
     "data": {
      "text/latex": [
       "$\\displaystyle \\frac{\\partial}{\\partial {n}_{j}} \\phi{\\left({n}_{i} \\right)} + \\frac{\\partial}{\\partial {n}_{i}} \\phi{\\left({n}_{j} \\right)} + \\sum_{k=1}^{N_{c}} \\frac{\\partial^{2}}{\\partial {n}_{j}\\partial {n}_{i}} \\phi{\\left({n}_{k} \\right)} {n}_{k}$"
      ],
      "text/plain": [
       "Derivative(\\phi(n[i]), n[j]) + Derivative(\\phi(n[j]), n[i]) + Sum(Derivative(\\phi(n[k]), n[i], n[j])*n[k], (k, 1, N_c))"
      ]
     },
     "execution_count": 4,
     "metadata": {},
     "output_type": "execute_result"
    }
   ],
   "source": [
    "td.handle_sum_kronecker(sp.diff(diff, n[j]), j)"
   ]
  },
  {
   "cell_type": "code",
   "execution_count": 5,
   "id": "0e1a9889",
   "metadata": {},
   "outputs": [],
   "source": [
    "r = sp.IndexedBase(\"r\")"
   ]
  },
  {
   "cell_type": "code",
   "execution_count": 6,
   "id": "1abb3bd6",
   "metadata": {},
   "outputs": [],
   "source": [
    "f = n[k] * r[k] / (td.SumComponents(n[l] * r[l], l))"
   ]
  },
  {
   "cell_type": "code",
   "execution_count": 7,
   "id": "5ec90f75",
   "metadata": {},
   "outputs": [
    {
     "data": {
      "text/latex": [
       "$\\displaystyle \\frac{{n}_{k} {r}_{k}}{\\sum_{l=1}^{N_{c}} {n}_{l} {r}_{l}}$"
      ],
      "text/plain": [
       "n[k]*r[k]/Sum(n[l]*r[l], (l, 1, N_c))"
      ]
     },
     "execution_count": 7,
     "metadata": {},
     "output_type": "execute_result"
    }
   ],
   "source": [
    "f"
   ]
  },
  {
   "cell_type": "code",
   "execution_count": 8,
   "id": "b27b07f1",
   "metadata": {},
   "outputs": [
    {
     "data": {
      "text/latex": [
       "$\\displaystyle \\frac{\\delta_{i k} {r}_{k}}{\\sum_{l=1}^{N_{c}} {n}_{l} {r}_{l}} - \\frac{{n}_{k} {r}_{i} {r}_{k}}{\\left(\\sum_{l=1}^{N_{c}} {n}_{l} {r}_{l}\\right)^{2}}$"
      ],
      "text/plain": [
       "KroneckerDelta(i, k)*r[k]/Sum(n[l]*r[l], (l, 1, N_c)) - n[k]*r[i]*r[k]/Sum(n[l]*r[l], (l, 1, N_c))**2"
      ]
     },
     "execution_count": 8,
     "metadata": {},
     "output_type": "execute_result"
    }
   ],
   "source": [
    "diffdown = td.handle_sum_kronecker(sp.diff(f, n[i]), i)\n",
    "\n",
    "diffdown"
   ]
  },
  {
   "cell_type": "code",
   "execution_count": 9,
   "id": "626eeea5",
   "metadata": {},
   "outputs": [
    {
     "data": {
      "text/latex": [
       "$\\displaystyle \\begin{cases} - \\frac{{n}_{i} {r}_{i}^{2}}{\\left(\\sum_{l=1}^{N_{c}} {n}_{l} {r}_{l}\\right)^{2}} + \\frac{{r}_{i}}{\\sum_{l=1}^{N_{c}} {n}_{l} {r}_{l}} & \\text{for}\\: i = k \\\\- \\frac{{n}_{k} {r}_{i} {r}_{k}}{\\left(\\sum_{l=1}^{N_{c}} {n}_{l} {r}_{l}\\right)^{2}} & \\text{otherwise} \\end{cases}$"
      ],
      "text/plain": [
       "Piecewise((-n[i]*r[i]**2/Sum(n[l]*r[l], (l, 1, N_c))**2 + r[i]/Sum(n[l]*r[l], (l, 1, N_c)), Eq(i, k)), (-n[k]*r[i]*r[k]/Sum(n[l]*r[l], (l, 1, N_c))**2, True))"
      ]
     },
     "execution_count": 9,
     "metadata": {},
     "output_type": "execute_result"
    }
   ],
   "source": [
    "diffposta = td.handle_free_kronecker(diffdown, k, i)\n",
    "\n",
    "diffposta"
   ]
  },
  {
   "cell_type": "code",
   "execution_count": 10,
   "id": "081bc213",
   "metadata": {},
   "outputs": [],
   "source": [
    "arriba = diffposta.args[0][0]\n",
    "abajo = diffposta.args[1][0]\n"
   ]
  },
  {
   "cell_type": "code",
   "execution_count": 11,
   "id": "0b81ece8",
   "metadata": {},
   "outputs": [],
   "source": [
    "diff_arriba = sp.diff(arriba, n[j])\n",
    "\n",
    "diff_arriba = td.handle_sum_kronecker(diff_arriba, j)\n",
    "\n",
    "diff_arriba = td.handle_free_kronecker(diff_arriba, k, j)\n",
    "diff_arriba = td.handle_free_kronecker(diff_arriba, j, i)"
   ]
  },
  {
   "cell_type": "code",
   "execution_count": 12,
   "id": "0f4b5f67",
   "metadata": {},
   "outputs": [
    {
     "data": {
      "text/latex": [
       "$\\displaystyle \\begin{cases} \\frac{2 {n}_{i} {r}_{i}^{3}}{\\left(\\sum_{l=1}^{N_{c}} {n}_{l} {r}_{l}\\right)^{3}} - \\frac{2 {r}_{i}^{2}}{\\left(\\sum_{l=1}^{N_{c}} {n}_{l} {r}_{l}\\right)^{2}} & \\text{for}\\: i = j \\\\\\frac{2 {n}_{i} {r}_{i}^{2} {r}_{j}}{\\left(\\sum_{l=1}^{N_{c}} {n}_{l} {r}_{l}\\right)^{3}} - \\frac{{r}_{i} {r}_{j}}{\\left(\\sum_{l=1}^{N_{c}} {n}_{l} {r}_{l}\\right)^{2}} & \\text{otherwise} \\end{cases}$"
      ],
      "text/plain": [
       "Piecewise((2*n[i]*r[i]**3/Sum(n[l]*r[l], (l, 1, N_c))**3 - 2*r[i]**2/Sum(n[l]*r[l], (l, 1, N_c))**2, Eq(i, j)), (2*n[i]*r[i]**2*r[j]/Sum(n[l]*r[l], (l, 1, N_c))**3 - r[i]*r[j]/Sum(n[l]*r[l], (l, 1, N_c))**2, True))"
      ]
     },
     "execution_count": 12,
     "metadata": {},
     "output_type": "execute_result"
    }
   ],
   "source": [
    "diff_arriba"
   ]
  },
  {
   "cell_type": "code",
   "execution_count": 13,
   "id": "a74e30ea",
   "metadata": {},
   "outputs": [],
   "source": [
    "diff_abajo = sp.diff(abajo, n[j])\n",
    "\n",
    "diff_abajo = td.handle_sum_kronecker(diff_abajo, j)\n",
    "\n",
    "diff_abajo = td.handle_free_kronecker(diff_abajo, k, j)\n",
    "diff_abajo = td.handle_free_kronecker(diff_abajo, j, i)"
   ]
  },
  {
   "cell_type": "code",
   "execution_count": 14,
   "id": "f1c26b38",
   "metadata": {},
   "outputs": [
    {
     "data": {
      "text/latex": [
       "$\\displaystyle \\begin{cases} \\frac{2 {n}_{j} {r}_{i} {r}_{j}^{2}}{\\left(\\sum_{l=1}^{N_{c}} {n}_{l} {r}_{l}\\right)^{3}} - \\frac{{r}_{i} {r}_{j}}{\\left(\\sum_{l=1}^{N_{c}} {n}_{l} {r}_{l}\\right)^{2}} & \\text{for}\\: j = k \\\\\\frac{2 {n}_{k} {r}_{i} {r}_{j} {r}_{k}}{\\left(\\sum_{l=1}^{N_{c}} {n}_{l} {r}_{l}\\right)^{3}} & \\text{otherwise} \\end{cases}$"
      ],
      "text/plain": [
       "Piecewise((2*n[j]*r[i]*r[j]**2/Sum(n[l]*r[l], (l, 1, N_c))**3 - r[i]*r[j]/Sum(n[l]*r[l], (l, 1, N_c))**2, Eq(j, k)), (2*n[k]*r[i]*r[j]*r[k]/Sum(n[l]*r[l], (l, 1, N_c))**3, True))"
      ]
     },
     "execution_count": 14,
     "metadata": {},
     "output_type": "execute_result"
    }
   ],
   "source": [
    "diff_abajo"
   ]
  },
  {
   "cell_type": "markdown",
   "id": "709e284a",
   "metadata": {},
   "source": [
    "## Probando la clase"
   ]
  },
  {
   "cell_type": "code",
   "execution_count": 15,
   "id": "ab0dfa93",
   "metadata": {},
   "outputs": [],
   "source": [
    "import sympy as sp\n",
    "\n",
    "import thermodiff as td\n",
    "from thermodiff import n, T, V, k, l\n",
    "\n",
    "\n",
    "r = sp.IndexedBase(\"r\")\n",
    "\n",
    "phi = n[k] * r[k] / (td.SumComponents(n[l] * r[l], l))\n",
    "\n",
    "diff = td.DiffClass(\n",
    "    expression=phi,\n",
    "    name=\"phi\",\n",
    ")"
   ]
  },
  {
   "cell_type": "code",
   "execution_count": 16,
   "id": "eea86f9f",
   "metadata": {},
   "outputs": [
    {
     "data": {
      "text/latex": [
       "$\\displaystyle \\begin{cases} - \\frac{{n}_{i} {r}_{i}^{2}}{\\left(\\sum_{l=1}^{N_{c}} {n}_{l} {r}_{l}\\right)^{2}} + \\frac{{r}_{i}}{\\sum_{l=1}^{N_{c}} {n}_{l} {r}_{l}} & \\text{for}\\: i = k \\\\- \\frac{{n}_{k} {r}_{i} {r}_{k}}{\\left(\\sum_{l=1}^{N_{c}} {n}_{l} {r}_{l}\\right)^{2}} & \\text{otherwise} \\end{cases}$"
      ],
      "text/plain": [
       "Piecewise((-n[i]*r[i]**2/Sum(n[l]*r[l], (l, 1, N_c))**2 + r[i]/Sum(n[l]*r[l], (l, 1, N_c)), Eq(i, k)), (-n[k]*r[i]*r[k]/Sum(n[l]*r[l], (l, 1, N_c))**2, True))"
      ]
     },
     "execution_count": 16,
     "metadata": {},
     "output_type": "execute_result"
    }
   ],
   "source": [
    "diff.dni"
   ]
  },
  {
   "cell_type": "code",
   "execution_count": 17,
   "id": "c755a002",
   "metadata": {},
   "outputs": [
    {
     "data": {
      "text/latex": [
       "$\\displaystyle \\begin{cases} \\frac{2 {n}_{i} {r}_{i}^{3}}{\\left(\\sum_{l=1}^{N_{c}} {n}_{l} {r}_{l}\\right)^{3}} - \\frac{2 {r}_{i}^{2}}{\\left(\\sum_{l=1}^{N_{c}} {n}_{l} {r}_{l}\\right)^{2}} & \\text{for}\\: i = j \\wedge i = k \\\\\\frac{2 {n}_{i} {r}_{i}^{2} {r}_{j}}{\\left(\\sum_{l=1}^{N_{c}} {n}_{l} {r}_{l}\\right)^{3}} - \\frac{{r}_{i} {r}_{j}}{\\left(\\sum_{l=1}^{N_{c}} {n}_{l} {r}_{l}\\right)^{2}} & \\text{for}\\: i = k \\wedge i \\neq j \\\\\\frac{2 {n}_{j} {r}_{i} {r}_{j}^{2}}{\\left(\\sum_{l=1}^{N_{c}} {n}_{l} {r}_{l}\\right)^{3}} - \\frac{{r}_{i} {r}_{j}}{\\left(\\sum_{l=1}^{N_{c}} {n}_{l} {r}_{l}\\right)^{2}} & \\text{for}\\: j = k \\wedge i \\neq j \\\\\\frac{2 {n}_{k} {r}_{i} {r}_{j} {r}_{k}}{\\left(\\sum_{l=1}^{N_{c}} {n}_{l} {r}_{l}\\right)^{3}} & \\text{otherwise} \\end{cases}$"
      ],
      "text/plain": [
       "Piecewise((2*n[i]*r[i]**3/Sum(n[l]*r[l], (l, 1, N_c))**3 - 2*r[i]**2/Sum(n[l]*r[l], (l, 1, N_c))**2, Eq(i, j) & Eq(i, k)), (2*n[i]*r[i]**2*r[j]/Sum(n[l]*r[l], (l, 1, N_c))**3 - r[i]*r[j]/Sum(n[l]*r[l], (l, 1, N_c))**2, Eq(i, k) & Ne(i, j)), (2*n[j]*r[i]*r[j]**2/Sum(n[l]*r[l], (l, 1, N_c))**3 - r[i]*r[j]/Sum(n[l]*r[l], (l, 1, N_c))**2, Eq(j, k) & Ne(i, j)), (2*n[k]*r[i]*r[j]*r[k]/Sum(n[l]*r[l], (l, 1, N_c))**3, True))"
      ]
     },
     "execution_count": 17,
     "metadata": {},
     "output_type": "execute_result"
    }
   ],
   "source": [
    "diff.dnidnj"
   ]
  },
  {
   "cell_type": "markdown",
   "id": "1061ff8c",
   "metadata": {},
   "source": [
    "## Pruebita con funciones"
   ]
  },
  {
   "cell_type": "code",
   "execution_count": 18,
   "id": "342b4b6e",
   "metadata": {},
   "outputs": [
    {
     "data": {
      "text/latex": [
       "$\\displaystyle \\sum_{k=1}^{N_{c}} \\Gamma{\\left({n}_{k},T,V \\right)} {n}_{k}$"
      ],
      "text/plain": [
       "Sum(\\Gamma(n[k], T, V)*n[k], (k, 1, N_c))"
      ]
     },
     "execution_count": 18,
     "metadata": {},
     "output_type": "execute_result"
    }
   ],
   "source": [
    "func_pija = td.IdxFunction(r\"\\Gamma\")(n[k], T, V)\n",
    "\n",
    "Ar = td.SumComponents(func_pija * n[k], k)\n",
    "\n",
    "diff = td.DiffClass(\n",
    "    expression=Ar,\n",
    "    name=r\"A_r\",\n",
    ")\n",
    "\n",
    "Ar"
   ]
  },
  {
   "cell_type": "code",
   "execution_count": 19,
   "id": "26ce9914",
   "metadata": {},
   "outputs": [
    {
     "data": {
      "text/latex": [
       "$\\displaystyle \\frac{\\partial}{\\partial T} \\Gamma{\\left({n}_{i},T,V \\right)} + \\sum_{k=1}^{N_{c}} \\frac{\\partial^{2}}{\\partial {n}_{i}\\partial T} \\Gamma{\\left({n}_{k},T,V \\right)} {n}_{k}$"
      ],
      "text/plain": [
       "Derivative(\\Gamma(n[i], T, V), T) + Sum(Derivative(\\Gamma(n[k], T, V), T, n[i])*n[k], (k, 1, N_c))"
      ]
     },
     "execution_count": 19,
     "metadata": {},
     "output_type": "execute_result"
    }
   ],
   "source": [
    "diff.dtdni"
   ]
  },
  {
   "cell_type": "code",
   "execution_count": 20,
   "id": "fb882fc1",
   "metadata": {},
   "outputs": [
    {
     "data": {
      "text/latex": [
       "$\\displaystyle \\sum_{k=1}^{N_{c}} \\frac{\\partial^{2}}{\\partial T^{2}} \\Gamma{\\left({n}_{k},T,V \\right)} {n}_{k}$"
      ],
      "text/plain": [
       "Sum(Derivative(\\Gamma(n[k], T, V), (T, 2))*n[k], (k, 1, N_c))"
      ]
     },
     "execution_count": 20,
     "metadata": {},
     "output_type": "execute_result"
    }
   ],
   "source": [
    "diff.dt2\n",
    "\n",
    "# Las diff.dv dan lo mismo"
   ]
  },
  {
   "cell_type": "code",
   "execution_count": 21,
   "id": "6ea66b72",
   "metadata": {},
   "outputs": [
    {
     "data": {
      "text/latex": [
       "$\\displaystyle \\sum_{k=1}^{N_{c}} \\frac{\\partial}{\\partial V} \\Gamma{\\left({n}_{k},T,V \\right)} {n}_{k}$"
      ],
      "text/plain": [
       "Sum(Derivative(\\Gamma(n[k], T, V), V)*n[k], (k, 1, N_c))"
      ]
     },
     "execution_count": 21,
     "metadata": {},
     "output_type": "execute_result"
    }
   ],
   "source": [
    "diff.dv"
   ]
  },
  {
   "cell_type": "code",
   "execution_count": 22,
   "id": "917eebfe",
   "metadata": {},
   "outputs": [
    {
     "data": {
      "text/latex": [
       "$\\displaystyle \\sum_{k=1}^{N_{c}} \\frac{\\partial^{2}}{\\partial V^{2}} \\Gamma{\\left({n}_{k},T,V \\right)} {n}_{k}$"
      ],
      "text/plain": [
       "Sum(Derivative(\\Gamma(n[k], T, V), (V, 2))*n[k], (k, 1, N_c))"
      ]
     },
     "execution_count": 22,
     "metadata": {},
     "output_type": "execute_result"
    }
   ],
   "source": [
    "diff.dv2"
   ]
  },
  {
   "cell_type": "code",
   "execution_count": 23,
   "id": "55c3cd3f",
   "metadata": {},
   "outputs": [
    {
     "data": {
      "text/latex": [
       "$\\displaystyle \\Gamma{\\left({n}_{i},T,V \\right)} + \\sum_{k=1}^{N_{c}} \\frac{\\partial}{\\partial {n}_{i}} \\Gamma{\\left({n}_{k},T,V \\right)} {n}_{k}$"
      ],
      "text/plain": [
       "\\Gamma(n[i], T, V) + Sum(Derivative(\\Gamma(n[k], T, V), n[i])*n[k], (k, 1, N_c))"
      ]
     },
     "execution_count": 23,
     "metadata": {},
     "output_type": "execute_result"
    }
   ],
   "source": [
    "diff.dni"
   ]
  },
  {
   "cell_type": "code",
   "execution_count": 24,
   "id": "72627270",
   "metadata": {},
   "outputs": [
    {
     "data": {
      "text/latex": [
       "$\\displaystyle \\frac{\\partial}{\\partial {n}_{j}} \\Gamma{\\left({n}_{i},T,V \\right)} + \\frac{\\partial}{\\partial {n}_{i}} \\Gamma{\\left({n}_{j},T,V \\right)} + \\sum_{k=1}^{N_{c}} \\frac{\\partial^{2}}{\\partial {n}_{j}\\partial {n}_{i}} \\Gamma{\\left({n}_{k},T,V \\right)} {n}_{k}$"
      ],
      "text/plain": [
       "Derivative(\\Gamma(n[i], T, V), n[j]) + Derivative(\\Gamma(n[j], T, V), n[i]) + Sum(Derivative(\\Gamma(n[k], T, V), n[i], n[j])*n[k], (k, 1, N_c))"
      ]
     },
     "execution_count": 24,
     "metadata": {},
     "output_type": "execute_result"
    }
   ],
   "source": [
    "diff.dnidnj"
   ]
  },
  {
   "cell_type": "markdown",
   "id": "28f150f4",
   "metadata": {},
   "source": [
    "## A ver UNIQUAC que hace"
   ]
  },
  {
   "cell_type": "code",
   "execution_count": 68,
   "id": "2c987960",
   "metadata": {},
   "outputs": [
    {
     "data": {
      "text/latex": [
       "$\\displaystyle R T \\left(\\frac{z \\sum_{k=1}^{N_{c}} \\left(\\log{\\left(\\frac{{q}_{k} \\sum_{l=1}^{N_{c}} {n}_{l} {r}_{l}}{{r}_{k} \\sum_{l=1}^{N_{c}} {n}_{l} {q}_{l}} \\right)}\\right) {n}_{k} {q}_{k}}{2} + \\sum_{k=1}^{N_{c}} \\left(\\log{\\left(\\frac{{r}_{k} \\sum_{m=1}^{N_{c}} {n}_{m}}{\\sum_{l=1}^{N_{c}} {n}_{l} {r}_{l}} \\right)}\\right) {n}_{k} - \\sum_{k=1}^{N_{c}} \\left(\\log{\\left(\\sum_{l=1}^{N_{c}} \\tau{\\left(l,k,T \\right)} \\theta{\\left({n}_{l} \\right)} \\right)}\\right) {n}_{k} {q}_{k}\\right)$"
      ],
      "text/plain": [
       "R*T*(z*Sum(log(q[k]*Sum(n[l]*r[l], (l, 1, N_c))/(r[k]*Sum(n[l]*q[l], (l, 1, N_c))))*n[k]*q[k], (k, 1, N_c))/2 + Sum(log(r[k]*Sum(n[m], (m, 1, N_c))/Sum(n[l]*r[l], (l, 1, N_c)))*n[k], (k, 1, N_c)) - Sum(log(Sum(\\tau(l, k, T)*\\theta(n[l]), (l, 1, N_c)))*n[k]*q[k], (k, 1, N_c)))"
      ]
     },
     "execution_count": 68,
     "metadata": {},
     "output_type": "execute_result"
    }
   ],
   "source": [
    "r = sp.IndexedBase(\"r\")\n",
    "q = sp.IndexedBase(\"q\")\n",
    "\n",
    "teta = td.IdxFunction(r\"\\theta\")(n[l])\n",
    "tau = td.IdxFunction(r\"\\tau\")(l, k, T)\n",
    "\n",
    "z = sp.Symbol(\"z\")\n",
    "R = sp.Symbol(\"R\")\n",
    "\n",
    "nt = td.SumComponents(n[m], m)\n",
    "\n",
    "rl_nl = td.SumComponents(r[l] * n[l], l)\n",
    "ql_nl = td.SumComponents(q[l] * n[l], l)\n",
    "\n",
    "Ge = R * T * (\n",
    "    td.SumComponents(n[k] * sp.ln(nt * r[k] / rl_nl), k)\n",
    "    + z / 2 * td.SumComponents(q[k] * n[k] * sp.ln(q[k] * rl_nl / (r[k] * ql_nl)), k)\n",
    "    - td.SumComponents(q[k] * n[k] * sp.ln(td.SumComponents(teta * tau, l)), k)\n",
    ")\n",
    "\n",
    "Ge"
   ]
  },
  {
   "cell_type": "code",
   "execution_count": 69,
   "id": "00cabcfe",
   "metadata": {},
   "outputs": [],
   "source": [
    "diff = td.DiffClass(\n",
    "    expression=Ge,\n",
    "    name=r\"G_e\",\n",
    ")"
   ]
  },
  {
   "cell_type": "code",
   "execution_count": 70,
   "id": "d4e84a38",
   "metadata": {},
   "outputs": [
    {
     "data": {
      "text/latex": [
       "$\\displaystyle R T \\left(\\frac{z \\left(\\left(\\log{\\left(\\frac{{q}_{i} \\sum_{l=1}^{N_{c}} {n}_{l} {r}_{l}}{{r}_{i} \\sum_{l=1}^{N_{c}} {n}_{l} {q}_{l}} \\right)}\\right) {q}_{i} + \\sum_{k=1}^{N_{c}} \\frac{\\left(- \\frac{{q}_{i} {q}_{k} \\sum_{l=1}^{N_{c}} {n}_{l} {r}_{l}}{{r}_{k} \\left(\\sum_{l=1}^{N_{c}} {n}_{l} {q}_{l}\\right)^{2}} + \\frac{{q}_{k} {r}_{i}}{{r}_{k} \\sum_{l=1}^{N_{c}} {n}_{l} {q}_{l}}\\right) {n}_{k} {r}_{k} \\sum_{l=1}^{N_{c}} {n}_{l} {q}_{l}}{\\sum_{l=1}^{N_{c}} {n}_{l} {r}_{l}}\\right)}{2} + \\log{\\left(\\frac{{r}_{i} \\sum_{m=1}^{N_{c}} {n}_{m}}{\\sum_{l=1}^{N_{c}} {n}_{l} {r}_{l}} \\right)} - \\left(\\log{\\left(\\sum_{l=1}^{N_{c}} \\tau{\\left(l,i,T \\right)} \\theta{\\left({n}_{l} \\right)} \\right)}\\right) {q}_{i} - \\sum_{k=1}^{N_{c}} \\frac{{n}_{k} {q}_{k} \\sum_{l=1}^{N_{c}} \\tau{\\left(l,k,T \\right)} \\frac{\\partial}{\\partial {n}_{i}} \\theta{\\left({n}_{l} \\right)}}{\\sum_{l=1}^{N_{c}} \\tau{\\left(l,k,T \\right)} \\theta{\\left({n}_{l} \\right)}} + \\sum_{k=1}^{N_{c}} \\frac{\\left(- \\frac{{r}_{i} {r}_{k} \\sum_{m=1}^{N_{c}} {n}_{m}}{\\left(\\sum_{l=1}^{N_{c}} {n}_{l} {r}_{l}\\right)^{2}} + \\frac{{r}_{k}}{\\sum_{l=1}^{N_{c}} {n}_{l} {r}_{l}}\\right) {n}_{k} \\sum_{l=1}^{N_{c}} {n}_{l} {r}_{l}}{{r}_{k} \\sum_{m=1}^{N_{c}} {n}_{m}}\\right)$"
      ],
      "text/plain": [
       "R*T*(z*(log(q[i]*Sum(n[l]*r[l], (l, 1, N_c))/(r[i]*Sum(n[l]*q[l], (l, 1, N_c))))*q[i] + Sum((-q[i]*q[k]*Sum(n[l]*r[l], (l, 1, N_c))/(r[k]*Sum(n[l]*q[l], (l, 1, N_c))**2) + q[k]*r[i]/(r[k]*Sum(n[l]*q[l], (l, 1, N_c))))*n[k]*r[k]*Sum(n[l]*q[l], (l, 1, N_c))/Sum(n[l]*r[l], (l, 1, N_c)), (k, 1, N_c)))/2 + log(r[i]*Sum(n[m], (m, 1, N_c))/Sum(n[l]*r[l], (l, 1, N_c))) - log(Sum(\\tau(l, i, T)*\\theta(n[l]), (l, 1, N_c)))*q[i] - Sum(n[k]*q[k]*Sum(\\tau(l, k, T)*Derivative(\\theta(n[l]), n[i]), (l, 1, N_c))/Sum(\\tau(l, k, T)*\\theta(n[l]), (l, 1, N_c)), (k, 1, N_c)) + Sum((-r[i]*r[k]*Sum(n[m], (m, 1, N_c))/Sum(n[l]*r[l], (l, 1, N_c))**2 + r[k]/Sum(n[l]*r[l], (l, 1, N_c)))*n[k]*Sum(n[l]*r[l], (l, 1, N_c))/(r[k]*Sum(n[m], (m, 1, N_c))), (k, 1, N_c)))"
      ]
     },
     "execution_count": 70,
     "metadata": {},
     "output_type": "execute_result"
    }
   ],
   "source": [
    "diff.dni"
   ]
  },
  {
   "cell_type": "code",
   "execution_count": 76,
   "id": "787bbcbe",
   "metadata": {},
   "outputs": [
    {
     "data": {
      "text/plain": [
       "True"
      ]
     },
     "execution_count": 76,
     "metadata": {},
     "output_type": "execute_result"
    }
   ],
   "source": [
    "diff.dtdni.has(diff.dni / T)"
   ]
  },
  {
   "cell_type": "code",
   "execution_count": 90,
   "id": "913cdb0f",
   "metadata": {},
   "outputs": [],
   "source": [
    "coso = diff.dtdni.subs(diff.dni / T, sp.Derivative(sp.Symbol(\"G^E\"), n[i]) / T)\n"
   ]
  },
  {
   "cell_type": "code",
   "execution_count": 92,
   "id": "95cab552",
   "metadata": {},
   "outputs": [
    {
     "data": {
      "text/plain": [
       "True"
      ]
     },
     "execution_count": 92,
     "metadata": {},
     "output_type": "execute_result"
    }
   ],
   "source": [
    "diff.dt.has(Ge / T)"
   ]
  },
  {
   "cell_type": "code",
   "execution_count": 93,
   "id": "606bc12a",
   "metadata": {},
   "outputs": [
    {
     "data": {
      "text/latex": [
       "$\\displaystyle \\frac{G^{E}}{T} - R T \\sum_{k=1}^{N_{c}} \\frac{{n}_{k} {q}_{k} \\sum_{l=1}^{N_{c}} \\theta{\\left({n}_{l} \\right)} \\frac{d}{d T} \\tau{\\left(l,k,T \\right)}}{\\sum_{l=1}^{N_{c}} \\tau{\\left(l,k,T \\right)} \\theta{\\left({n}_{l} \\right)}}$"
      ],
      "text/plain": [
       "G^E/T - R*T*Sum(n[k]*q[k]*Sum(\\theta(n[l])*Derivative(\\tau(l, k, T), T), (l, 1, N_c))/Sum(\\tau(l, k, T)*\\theta(n[l]), (l, 1, N_c)), (k, 1, N_c))"
      ]
     },
     "execution_count": 93,
     "metadata": {},
     "output_type": "execute_result"
    }
   ],
   "source": [
    "diff.dt.subs(Ge / T, sp.Symbol(\"G^E\") / T)"
   ]
  }
 ],
 "metadata": {
  "kernelspec": {
   "display_name": "thermodiff",
   "language": "python",
   "name": "python3"
  },
  "language_info": {
   "codemirror_mode": {
    "name": "ipython",
    "version": 3
   },
   "file_extension": ".py",
   "mimetype": "text/x-python",
   "name": "python",
   "nbconvert_exporter": "python",
   "pygments_lexer": "ipython3",
   "version": "3.12.10"
  }
 },
 "nbformat": 4,
 "nbformat_minor": 5
}

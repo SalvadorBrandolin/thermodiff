{
 "cells": [
  {
   "cell_type": "code",
   "execution_count": 8,
   "id": "dc20b52d",
   "metadata": {},
   "outputs": [],
   "source": [
    "import sympy as sp\n",
    "\n",
    "# Variables\n",
    "T, P = sp.symbols('T P')\n",
    "n = sp.IndexedBase('n')\n",
    "i, k = sp.symbols('i k', integer=True)\n",
    "\n",
    "# Definimos φ_k como función general\n",
    "phi = sp.Function('phi')\n",
    "\n",
    "# Expresión: φ_k = phi(n[k], T, P)\n",
    "phi_k = phi(n[k], T, P)\n",
    "\n",
    "# Derivar respecto a n[i]\n",
    "dphi_dni = sp.diff(phi_k, n[i])\n"
   ]
  },
  {
   "cell_type": "code",
   "execution_count": 9,
   "id": "6f1f8a83",
   "metadata": {},
   "outputs": [
    {
     "data": {
      "text/latex": [
       "$\\displaystyle \\phi{\\left({n}_{k},T,P \\right)}$"
      ],
      "text/plain": [
       "phi(n[k], T, P)"
      ]
     },
     "execution_count": 9,
     "metadata": {},
     "output_type": "execute_result"
    }
   ],
   "source": [
    "phi_k"
   ]
  },
  {
   "cell_type": "code",
   "execution_count": 14,
   "id": "ab86d5ad",
   "metadata": {},
   "outputs": [
    {
     "data": {
      "text/latex": [
       "$\\displaystyle \\frac{\\partial}{\\partial {n}_{k}} \\phi{\\left({n}_{k},T,P \\right)}$"
      ],
      "text/plain": [
       "Derivative(phi(n[k], T, P), n[k])"
      ]
     },
     "execution_count": 14,
     "metadata": {},
     "output_type": "execute_result"
    }
   ],
   "source": [
    "dphi_dni.subs(i, k)"
   ]
  },
  {
   "cell_type": "markdown",
   "id": "68417956",
   "metadata": {},
   "source": [
    "## Ejemplo total"
   ]
  },
  {
   "cell_type": "code",
   "execution_count": 38,
   "id": "3bb24f1e",
   "metadata": {},
   "outputs": [],
   "source": [
    "# Variable dummy Nc (numero de componentes)\n",
    "nc = sp.symbols(\"Nc\", integer=True)\n",
    "\n",
    "# Indices\n",
    "# Para derivadas de n\n",
    "i = sp.symbols(\"i\", cls=sp.Idx)\n",
    "j = sp.symbols(\"j\", cls=sp.Idx)\n",
    "\n",
    "# Indices para variables\n",
    "k = sp.symbols(\"k\", cls=sp.Idx)\n",
    "l = sp.symbols(\"l\", cls=sp.Idx)\n",
    "\n",
    "# Variables\n",
    "n = sp.IndexedBase(\"n\", shape=(nc,))\n",
    "t = sp.symbols(\"T\")\n",
    "v = sp.symbols(\"V\")\n",
    "\n",
    "\n",
    "r = sp.IndexedBase('r')\n",
    "q = sp.IndexedBase('q')\n",
    "\n",
    "a = sp.IndexedBase('a')\n",
    "b = sp.IndexedBase('b')\n",
    "\n",
    "# Definimos φ_k como función general\n",
    "phi = sp.Function('phi')\n",
    "\n",
    "# Expresión: φ_k = phi(n[k], T, P)\n",
    "phi_k = phi(n[k])"
   ]
  },
  {
   "cell_type": "code",
   "execution_count": null,
   "id": "b5fd1f45",
   "metadata": {},
   "outputs": [],
   "source": [
    "def simple_kronecker(expr):\n",
    "    solved = sp.diff(expr, n[i])\n",
    "    \n",
    "    solved = solved.doit().subs({i >= 1: True, nc >= i: True})\n",
    "\n",
    "    return solved"
   ]
  },
  {
   "cell_type": "code",
   "execution_count": null,
   "id": "21464645",
   "metadata": {},
   "outputs": [
    {
     "data": {
      "text/latex": [
       "$\\displaystyle \\phi\\left({n}_{k}, T\\right)$"
      ],
      "text/plain": [
       "\\phi(n[k], T)"
      ]
     },
     "execution_count": 60,
     "metadata": {},
     "output_type": "execute_result"
    }
   ],
   "source": [
    "# Subclase de Function\n",
    "class CFunction(sp.Function):\n",
    "    @classmethod\n",
    "    def eval(cls, n_k, T):\n",
    "        # No simplificamos nada en eval\n",
    "        pass\n",
    "\n",
    "    def fdiff(self, argindex=1):\n",
    "        raise NotImplementedError(\"Use .diff(var) for partial derivatives.\")\n",
    "\n",
    "    def diff(self, sym, **kwargs):\n",
    "        # Solo tratamos derivadas respecto a elementos de n[i]\n",
    "        if isinstance(sym, sp.Indexed) and sym.base == n:\n",
    "            k = self.args[0].args[0]  # Extrae el índice k de n[k]\n",
    "            i = sym.args[0]           # Extrae el índice i de n[i]\n",
    "                       \n",
    "            return CFunction(*self.args[:], name=r'\\frac{\\partial \\phi}{\\partial n}')\n",
    "        else:\n",
    "            # Por defecto: usa el método base\n",
    "            return super().diff(sym, **kwargs)\n",
    "        \n",
    "    def __new__(cls, *args, name=None, **kwargs):\n",
    "        obj = super().__new__(cls, *args, **kwargs)\n",
    "        obj._custom_name = name or cls.__name__\n",
    "        return obj\n",
    "\n",
    "    def __str__(self):\n",
    "        return f\"{self._custom_name}({', '.join(map(str, self.args))})\"\n",
    "\n",
    "    __repr__ = __str__\n",
    "    \n",
    "    def _sympystr(self, printer):\n",
    "        return f\"{self._custom_name}({', '.join(printer._print(arg) for arg in self.args)})\"\n",
    "\n",
    "    def _latex(self, printer):\n",
    "        return f\"{self._custom_name}\\\\left({', '.join(printer._print(arg) for arg in self.args)}\\\\right)\"\n",
    "\n",
    "\n",
    "k = sp.Symbol('k', integer=True)\n",
    "phi_k = CFunction(n[k], T, name=r'\\phi')\n",
    "\n",
    "phi_k"
   ]
  },
  {
   "cell_type": "code",
   "execution_count": 61,
   "id": "997bbdeb",
   "metadata": {},
   "outputs": [
    {
     "data": {
      "text/latex": [
       "$\\displaystyle \\sum_{k=0}^{Nc} \\phi\\left({n}_{k}, T\\right) {n}_{k}$"
      ],
      "text/plain": [
       "Sum(\\phi(n[k], T)*n[k], (k, 0, Nc))"
      ]
     },
     "execution_count": 61,
     "metadata": {},
     "output_type": "execute_result"
    }
   ],
   "source": [
    "exp = sp.Sum(n[k] * phi_k, (k, 0, nc))\n",
    "\n",
    "exp"
   ]
  },
  {
   "cell_type": "code",
   "execution_count": 63,
   "id": "ecc0acf1",
   "metadata": {},
   "outputs": [],
   "source": [
    "coso = sp.diff(exp, n[i])"
   ]
  },
  {
   "cell_type": "code",
   "execution_count": 64,
   "id": "d858cc98",
   "metadata": {},
   "outputs": [
    {
     "data": {
      "text/latex": [
       "$\\displaystyle \\sum_{k=0}^{Nc} \\left(CFunction\\left({n}_{k}, T\\right) \\delta_{k i} + CFunction\\left({n}_{k}, T\\right) {n}_{k}\\right)$"
      ],
      "text/plain": [
       "Sum(CFunction(n[k], T)*KroneckerDelta(k, i) + CFunction(n[k], T)*n[k], (k, 0, Nc))"
      ]
     },
     "execution_count": 64,
     "metadata": {},
     "output_type": "execute_result"
    }
   ],
   "source": [
    "coso"
   ]
  }
 ],
 "metadata": {
  "kernelspec": {
   "display_name": "thermodiff",
   "language": "python",
   "name": "python3"
  },
  "language_info": {
   "codemirror_mode": {
    "name": "ipython",
    "version": 3
   },
   "file_extension": ".py",
   "mimetype": "text/x-python",
   "name": "python",
   "nbconvert_exporter": "python",
   "pygments_lexer": "ipython3",
   "version": "3.12.11"
  }
 },
 "nbformat": 4,
 "nbformat_minor": 5
}

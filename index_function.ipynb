{
 "cells": [
  {
   "cell_type": "code",
   "execution_count": 1,
   "id": "3bb24f1e",
   "metadata": {},
   "outputs": [],
   "source": [
    "import sympy as sp\n",
    "\n",
    "# Variable dummy Nc (numero de componentes)\n",
    "nc = sp.symbols(\"Nc\", integer=True)\n",
    "\n",
    "# Indices\n",
    "# Para derivadas de n\n",
    "i = sp.symbols(\"i\", cls=sp.Idx)\n",
    "j = sp.symbols(\"j\", cls=sp.Idx)\n",
    "\n",
    "# Indices para variables\n",
    "k = sp.symbols(\"k\", cls=sp.Idx)\n",
    "l = sp.symbols(\"l\", cls=sp.Idx)\n",
    "\n",
    "# Variables\n",
    "n = sp.IndexedBase(\"n\", shape=(nc,))\n",
    "T = sp.symbols(\"T\")\n",
    "V = sp.symbols(\"V\")\n",
    "\n",
    "\n",
    "r = sp.IndexedBase('r')\n",
    "q = sp.IndexedBase('q')\n",
    "\n",
    "a = sp.IndexedBase('a')\n",
    "b = sp.IndexedBase('b')\n",
    "\n",
    "# Definimos φ_k como función general\n",
    "phi = sp.Function('phi')\n",
    "\n",
    "# Expresión: φ_k = phi(n[k], T, P)\n",
    "phi_k = phi(n[k])"
   ]
  },
  {
   "cell_type": "code",
   "execution_count": null,
   "id": "1a494fde",
   "metadata": {},
   "outputs": [],
   "source": []
  },
  {
   "cell_type": "code",
   "execution_count": 175,
   "id": "21464645",
   "metadata": {},
   "outputs": [],
   "source": [
    "# Subclase de Function\n",
    "class CFunction(sp.Function):\n",
    "    @classmethod\n",
    "    def eval(cls, n_k, T):\n",
    "        # No simplificamos nada en eval\n",
    "        pass\n",
    "       \n",
    "    def __new__(cls, *args, name=None, display_name=None, diff_list=[], is_diff=False, **kwargs):\n",
    "        obj = super().__new__(cls, *args, **kwargs)\n",
    "      \n",
    "        if name:\n",
    "            if not is_diff:\n",
    "                obj._custom_name = f\"{name}_\" + args[0].args[1].__str__()\n",
    "            else:\n",
    "                obj._custom_name = f\"{name}\"\n",
    "        else:\n",
    "            obj._custom_name = cls.__name__\n",
    "    \n",
    "        if not display_name:\n",
    "            obj._display_name = obj._custom_name\n",
    "        else:\n",
    "            obj._display_name = display_name\n",
    "            \n",
    "        obj._diff_list = diff_list\n",
    "\n",
    "        return obj\n",
    "\n",
    "    def __str__(self):\n",
    "        return f\"{self._display_name}({', '.join(map(str, self.args))})\"\n",
    "\n",
    "    def __repr__(self):\n",
    "        return f\"{self._display_name}({', '.join(map(str, self.args))})\"\n",
    "    \n",
    "    def _sympystr(self, printer):\n",
    "        return f\"{self._display_name}\"\n",
    "\n",
    "    def _latex(self, printer):\n",
    "        return f\"{self._display_name}\"\n",
    "    \n",
    "    def diff(self, sym, **kwargs):\n",
    "        # Solo tratamos derivadas respecto a elementos de n[i]\n",
    "        if isinstance(sym, sp.Indexed) and sym.base == n:\n",
    "            kdx = self.args[0].args[0]  # Extrae el índice k de n[k]\n",
    "            idx = sym.args[1]           # Extrae el índice i de n[i]\n",
    "            \n",
    "            new_dx =f\"\\\\partial n_{idx}\"\n",
    "        else:\n",
    "            new_dx = f\"\\\\partial {sym.__str__()}\"\n",
    "            \n",
    "        diff_list = self._diff_list.copy()\n",
    "        \n",
    "        if new_dx not in diff_list:\n",
    "            diff_list.append(new_dx)\n",
    "        \n",
    "        full_dx = \"\"\n",
    "\n",
    "        for dx in diff_list:\n",
    "            full_dx += f\"{dx}\"\n",
    "        \n",
    "        symbol_string = \"\\\\frac{\" + f\"\\\\partial {self._custom_name}\" + \"}{\" + full_dx + \"}\"\n",
    "                    \n",
    "        return CFunction(*self.args[:], name=self._custom_name, display_name=symbol_string, is_diff=True, diff_list=diff_list, **kwargs)"
   ]
  },
  {
   "cell_type": "code",
   "execution_count": 180,
   "id": "5d44b36d",
   "metadata": {},
   "outputs": [
    {
     "data": {
      "text/latex": [
       "$\\displaystyle \\phi_k$"
      ],
      "text/plain": [
       "\\phi_k(n[k], T)"
      ]
     },
     "execution_count": 180,
     "metadata": {},
     "output_type": "execute_result"
    }
   ],
   "source": [
    "# Funcion de n[k] y T\n",
    "phi_k = CFunction(n[k], T, name=r'\\phi')\n",
    "phi_k"
   ]
  },
  {
   "cell_type": "code",
   "execution_count": 181,
   "id": "f682161e",
   "metadata": {},
   "outputs": [
    {
     "data": {
      "text/latex": [
       "$\\displaystyle \\frac{\\partial \\phi_k}{\\partial n_i}$"
      ],
      "text/plain": [
       "\\frac{\\partial \\phi_k}{\\partial n_i}(n[k], T)"
      ]
     },
     "execution_count": 181,
     "metadata": {},
     "output_type": "execute_result"
    }
   ],
   "source": [
    "sp.diff(phi_k, n[i])"
   ]
  },
  {
   "cell_type": "code",
   "execution_count": 183,
   "id": "a9242ab8",
   "metadata": {},
   "outputs": [
    {
     "data": {
      "text/latex": [
       "$\\displaystyle \\sum_{i=1}^{Nc} \\frac{\\partial \\phi_k}{\\partial n_i} {n}_{k}$"
      ],
      "text/plain": [
       "Sum(\\frac{\\partial \\phi_k}{\\partial n_i}*n[k], (i, 1, Nc))"
      ]
     },
     "execution_count": 183,
     "metadata": {},
     "output_type": "execute_result"
    }
   ],
   "source": [
    "exp = sp.Sum(phi_k * n[k], (i, 1, nc))\n",
    "exp"
   ]
  },
  {
   "cell_type": "code",
   "execution_count": 184,
   "id": "7b9de249",
   "metadata": {},
   "outputs": [
    {
     "data": {
      "text/latex": [
       "$\\displaystyle \\sum_{i=1}^{Nc} \\left(\\frac{\\partial \\phi_k}{\\partial n_i} \\delta_{k i} + \\frac{\\partial \\phi_k}{\\partial n_i} {n}_{k}\\right)$"
      ],
      "text/plain": [
       "Sum(\\frac{\\partial \\phi_k}{\\partial n_i}*KroneckerDelta(k, i) + \\frac{\\partial \\phi_k}{\\partial n_i}*n[k], (i, 1, Nc))"
      ]
     },
     "execution_count": 184,
     "metadata": {},
     "output_type": "execute_result"
    }
   ],
   "source": [
    "sp.diff(exp, n[i])"
   ]
  },
  {
   "cell_type": "code",
   "execution_count": null,
   "id": "a597abca",
   "metadata": {},
   "outputs": [],
   "source": []
  },
  {
   "cell_type": "code",
   "execution_count": 61,
   "id": "25398e0c",
   "metadata": {},
   "outputs": [
    {
     "data": {
      "text/latex": [
       "$\\displaystyle \\phi\\left({n}_{k}, T\\right)$"
      ],
      "text/plain": [
       "\\phi(n[k], T)"
      ]
     },
     "execution_count": 61,
     "metadata": {},
     "output_type": "execute_result"
    }
   ],
   "source": [
    "# OLD\n",
    "class CFunction(sp.Function):\n",
    "    @classmethod\n",
    "    def eval(cls, n_k, T):\n",
    "        # No simplificamos nada en eval\n",
    "        pass\n",
    "\n",
    "    def fdiff(self, argindex=1):\n",
    "        raise NotImplementedError(\"Use .diff(var) for partial derivatives.\")\n",
    "\n",
    "    def diff(self, sym, **kwargs):\n",
    "        # Solo tratamos derivadas respecto a elementos de n[i]\n",
    "        if isinstance(sym, sp.Indexed) and sym.base == n:\n",
    "            k = self.args[0].args[0]  # Extrae el índice k de n[k]\n",
    "            i = sym.args[0]           # Extrae el índice i de n[i]\n",
    "                       \n",
    "            return CFunction(*self.args[:], name=r'\\frac{\\partial \\phi}{\\partial n}')\n",
    "        else:\n",
    "            # Por defecto: usa el método base\n",
    "            return super().diff(sym, **kwargs)\n",
    "        \n",
    "    def __new__(cls, *args, name=None, **kwargs):\n",
    "        obj = super().__new__(cls, *args, **kwargs)\n",
    "        obj._custom_name = name or cls.__name__\n",
    "        return obj\n",
    "\n",
    "    def __str__(self):\n",
    "        return f\"{self._custom_name}({', '.join(map(str, self.args))})\"\n",
    "\n",
    "    __repr__ = __str__\n",
    "    \n",
    "    def _sympystr(self, printer):\n",
    "        return f\"{self._custom_name}({', '.join(printer._print(arg) for arg in self.args)})\"\n",
    "\n",
    "    def _latex(self, printer):\n",
    "        return f\"{self._custom_name}\\\\left({', '.join(printer._print(arg) for arg in self.args)}\\\\right)\"\n",
    "\n",
    "\n",
    "k = sp.Symbol('k', integer=True)\n",
    "phi_k = CFunction(n[k], T, name=r'\\phi')\n",
    "\n",
    "phi_k"
   ]
  },
  {
   "cell_type": "code",
   "execution_count": 22,
   "id": "642006b9",
   "metadata": {},
   "outputs": [],
   "source": [
    "def simple_kronecker(expr):\n",
    "    solved = sp.diff(expr, n[i])\n",
    "    \n",
    "    solved = solved.doit().subs({i >= 1: True, nc >= i: True})\n",
    "\n",
    "    return solved"
   ]
  }
 ],
 "metadata": {
  "kernelspec": {
   "display_name": "thermodiff",
   "language": "python",
   "name": "python3"
  },
  "language_info": {
   "codemirror_mode": {
    "name": "ipython",
    "version": 3
   },
   "file_extension": ".py",
   "mimetype": "text/x-python",
   "name": "python",
   "nbconvert_exporter": "python",
   "pygments_lexer": "ipython3",
   "version": "3.12.10"
  }
 },
 "nbformat": 4,
 "nbformat_minor": 5
}

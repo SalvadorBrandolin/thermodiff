{
 "cells": [
  {
   "cell_type": "code",
   "execution_count": 1,
   "id": "2710d557",
   "metadata": {},
   "outputs": [],
   "source": [
    "import sympy as sp"
   ]
  },
  {
   "cell_type": "code",
   "execution_count": 11,
   "id": "6614dc5e",
   "metadata": {},
   "outputs": [],
   "source": [
    "# Variable dummy Nc (numero de componentes)\n",
    "nc = sp.symbols(\"Nc\", integer=True)\n",
    "\n",
    "# Indices\n",
    "# Para derivadas de n\n",
    "i = sp.symbols(\"i\", cls=sp.Idx)\n",
    "j = sp.symbols(\"j\", cls=sp.Idx)\n",
    "\n",
    "# Indices para variables\n",
    "k = sp.symbols(\"k\", cls=sp.Idx)\n",
    "l = sp.symbols(\"l\", cls=sp.Idx)\n",
    "\n",
    "# Variables\n",
    "n = sp.IndexedBase(\"n\", shape=(nc,))\n",
    "t = sp.symbols(\"T\")\n",
    "v = sp.symbols(\"V\")\n",
    "\n",
    "\n",
    "r = sp.IndexedBase('r')\n",
    "q = sp.IndexedBase('q')\n",
    "\n",
    "a = sp.IndexedBase('a')\n",
    "b = sp.IndexedBase('b')\n"
   ]
  },
  {
   "cell_type": "code",
   "execution_count": 12,
   "id": "8a709ad4",
   "metadata": {},
   "outputs": [
    {
     "data": {
      "text/latex": [
       "$\\displaystyle \\frac{{n}_{k} {r}_{k}}{\\sum_{l=1}^{Nc} {n}_{l} {r}_{l}}$"
      ],
      "text/plain": [
       "n[k]*r[k]/Sum(n[l]*r[l], (l, 1, Nc))"
      ]
     },
     "execution_count": 12,
     "metadata": {},
     "output_type": "execute_result"
    }
   ],
   "source": [
    "phi = n[k] * r[k] / sp.summation(n[l] * r[l], (l, 1, nc))\n",
    "\n",
    "phi"
   ]
  },
  {
   "cell_type": "code",
   "execution_count": 16,
   "id": "f76829f5",
   "metadata": {},
   "outputs": [
    {
     "data": {
      "text/latex": [
       "$\\displaystyle \\frac{\\delta_{i k} {r}_{k}}{\\sum_{l=1}^{Nc} {n}_{l} {r}_{l}} - \\frac{{n}_{k} {r}_{k} \\sum_{l=1}^{Nc} \\delta_{i l} {r}_{l}}{\\left(\\sum_{l=1}^{Nc} {n}_{l} {r}_{l}\\right)^{2}}$"
      ],
      "text/plain": [
       "KroneckerDelta(i, k)*r[k]/Sum(n[l]*r[l], (l, 1, Nc)) - n[k]*r[k]*Sum(KroneckerDelta(i, l)*r[l], (l, 1, Nc))/Sum(n[l]*r[l], (l, 1, Nc))**2"
      ]
     },
     "execution_count": 16,
     "metadata": {},
     "output_type": "execute_result"
    }
   ],
   "source": [
    "exp = sp.diff(phi, n[i])\n",
    "\n",
    "exp"
   ]
  },
  {
   "cell_type": "code",
   "execution_count": 18,
   "id": "01c6810d",
   "metadata": {},
   "outputs": [
    {
     "data": {
      "text/latex": [
       "$\\displaystyle \\frac{\\delta_{i k} {r}_{k}}{\\sum_{l=1}^{Nc} {n}_{l} {r}_{l}} - \\frac{{n}_{k} {r}_{i} {r}_{k}}{\\left(\\sum_{l=1}^{Nc} {n}_{l} {r}_{l}\\right)^{2}}$"
      ],
      "text/plain": [
       "KroneckerDelta(i, k)*r[k]/Sum(n[l]*r[l], (l, 1, Nc)) - n[k]*r[i]*r[k]/Sum(n[l]*r[l], (l, 1, Nc))**2"
      ]
     },
     "execution_count": 18,
     "metadata": {},
     "output_type": "execute_result"
    }
   ],
   "source": [
    "def simplify_kronecker_sums(expr, k, i):\n",
    "    solved = expr.doit().subs({i >= 1: True, nc >= i: True})\n",
    "\n",
    "    return solved\n",
    "\n",
    "sol = simplify_kronecker_sums(exp, k, i)\n",
    "\n",
    "sol"
   ]
  },
  {
   "cell_type": "code",
   "execution_count": 19,
   "id": "9251ce62",
   "metadata": {},
   "outputs": [
    {
     "data": {
      "text/latex": [
       "$\\displaystyle - \\frac{{n}_{i} {r}_{i}^{2}}{\\left(\\sum_{l=1}^{Nc} {n}_{l} {r}_{l}\\right)^{2}} + \\frac{{r}_{i}}{\\sum_{l=1}^{Nc} {n}_{l} {r}_{l}}$"
      ],
      "text/plain": [
       "-n[i]*r[i]**2/Sum(n[l]*r[l], (l, 1, Nc))**2 + r[i]/Sum(n[l]*r[l], (l, 1, Nc))"
      ]
     },
     "execution_count": 19,
     "metadata": {},
     "output_type": "execute_result"
    }
   ],
   "source": [
    "sol.subs(k, i)"
   ]
  },
  {
   "cell_type": "code",
   "execution_count": 20,
   "id": "12709742",
   "metadata": {},
   "outputs": [
    {
     "data": {
      "text/latex": [
       "$\\displaystyle - \\frac{{n}_{k} {r}_{i} {r}_{k}}{\\left(\\sum_{l=1}^{Nc} {n}_{l} {r}_{l}\\right)^{2}}$"
      ],
      "text/plain": [
       "-n[k]*r[i]*r[k]/Sum(n[l]*r[l], (l, 1, Nc))**2"
      ]
     },
     "execution_count": 20,
     "metadata": {},
     "output_type": "execute_result"
    }
   ],
   "source": [
    "sol.subs(sp.KroneckerDelta(i, k), 0)"
   ]
  },
  {
   "cell_type": "code",
   "execution_count": 31,
   "id": "25ffd1c5",
   "metadata": {},
   "outputs": [
    {
     "data": {
      "text/plain": [
       "True"
      ]
     },
     "execution_count": 31,
     "metadata": {},
     "output_type": "execute_result"
    }
   ],
   "source": [
    "sol.has(sp.KroneckerDelta)"
   ]
  },
  {
   "cell_type": "code",
   "execution_count": 32,
   "id": "339b6aa0",
   "metadata": {},
   "outputs": [
    {
     "data": {
      "text/plain": [
       "False"
      ]
     },
     "execution_count": 32,
     "metadata": {},
     "output_type": "execute_result"
    }
   ],
   "source": [
    "sol.is_Piecewise"
   ]
  },
  {
   "cell_type": "code",
   "execution_count": 33,
   "id": "c67b24ec",
   "metadata": {},
   "outputs": [
    {
     "data": {
      "text/latex": [
       "$\\displaystyle \\frac{{n}_{i} {r}_{i}}{\\sum_{j=1}^{Nc} {n}_{j} {r}_{j}}$"
      ],
      "text/plain": [
       "n[i]*r[i]/Sum(n[j]*r[j], (j, 1, Nc))"
      ]
     },
     "execution_count": 33,
     "metadata": {},
     "output_type": "execute_result"
    }
   ],
   "source": [
    "phii = n[i] * r[i] / sp.summation(n[j] * r[j], (j, 1, nc))\n",
    "\n",
    "phii"
   ]
  },
  {
   "cell_type": "markdown",
   "id": "239e5164",
   "metadata": {},
   "source": [
    "Que pasa si definis la expresion en funcion de los mismo indices\n",
    "respecto a los que derivas?\n",
    "\n",
    "Fijate que perdesiformacion, solo obtenemos la derivada cuando \"k\" es igual a \"i\"\n",
    "en la parte anterior."
   ]
  },
  {
   "cell_type": "code",
   "execution_count": 36,
   "id": "f439758c",
   "metadata": {},
   "outputs": [
    {
     "data": {
      "text/latex": [
       "$\\displaystyle - \\frac{{n}_{i} {r}_{i} \\sum_{j=1}^{Nc} \\delta_{i j} {r}_{j}}{\\left(\\sum_{j=1}^{Nc} {n}_{j} {r}_{j}\\right)^{2}} + \\frac{{r}_{i}}{\\sum_{j=1}^{Nc} {n}_{j} {r}_{j}}$"
      ],
      "text/plain": [
       "-n[i]*r[i]*Sum(KroneckerDelta(i, j)*r[j], (j, 1, Nc))/Sum(n[j]*r[j], (j, 1, Nc))**2 + r[i]/Sum(n[j]*r[j], (j, 1, Nc))"
      ]
     },
     "execution_count": 36,
     "metadata": {},
     "output_type": "execute_result"
    }
   ],
   "source": [
    "exp = sp.diff(phii, n[i])\n",
    "\n",
    "exp"
   ]
  },
  {
   "cell_type": "code",
   "execution_count": 40,
   "id": "9f293849",
   "metadata": {},
   "outputs": [
    {
     "data": {
      "text/latex": [
       "$\\displaystyle - \\frac{{n}_{i} {r}_{i}^{2}}{\\left(\\sum_{j=1}^{Nc} {n}_{j} {r}_{j}\\right)^{2}} + \\frac{{r}_{i}}{\\sum_{j=1}^{Nc} {n}_{j} {r}_{j}}$"
      ],
      "text/plain": [
       "-n[i]*r[i]**2/Sum(n[j]*r[j], (j, 1, Nc))**2 + r[i]/Sum(n[j]*r[j], (j, 1, Nc))"
      ]
     },
     "execution_count": 40,
     "metadata": {},
     "output_type": "execute_result"
    }
   ],
   "source": [
    "simplify_kronecker_sums(exp, j, i)"
   ]
  }
 ],
 "metadata": {
  "kernelspec": {
   "display_name": "Python 3",
   "language": "python",
   "name": "python3"
  },
  "language_info": {
   "codemirror_mode": {
    "name": "ipython",
    "version": 3
   },
   "file_extension": ".py",
   "mimetype": "text/x-python",
   "name": "python",
   "nbconvert_exporter": "python",
   "pygments_lexer": "ipython3",
   "version": "3.12.1"
  }
 },
 "nbformat": 4,
 "nbformat_minor": 5
}

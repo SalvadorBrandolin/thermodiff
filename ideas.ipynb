{
 "cells": [
  {
   "cell_type": "code",
   "execution_count": 1,
   "id": "2710d557",
   "metadata": {},
   "outputs": [],
   "source": [
    "import sympy as sp"
   ]
  },
  {
   "cell_type": "code",
   "execution_count": 2,
   "id": "6614dc5e",
   "metadata": {},
   "outputs": [],
   "source": [
    "# Variable dummy Nc (numero de componentes)\n",
    "nc = sp.symbols(\"Nc\", integer=True)\n",
    "\n",
    "# Indices\n",
    "# Para derivadas de n\n",
    "i = sp.symbols(\"i\", cls=sp.Idx)\n",
    "j = sp.symbols(\"j\", cls=sp.Idx)\n",
    "\n",
    "# Indices para variables\n",
    "k = sp.symbols(\"k\", cls=sp.Idx)\n",
    "l = sp.symbols(\"l\", cls=sp.Idx)\n",
    "\n",
    "# Variables\n",
    "n = sp.IndexedBase(\"n\", shape=(nc,))\n",
    "t = sp.symbols(\"T\")\n",
    "v = sp.symbols(\"V\")\n",
    "\n",
    "\n",
    "r = sp.IndexedBase('r')\n",
    "q = sp.IndexedBase('q')\n",
    "\n",
    "a = sp.IndexedBase('a')\n",
    "b = sp.IndexedBase('b')\n"
   ]
  },
  {
   "cell_type": "code",
   "execution_count": 3,
   "id": "8a709ad4",
   "metadata": {},
   "outputs": [
    {
     "data": {
      "text/latex": [
       "$\\displaystyle \\frac{{n}_{k} {r}_{k}}{\\sum_{l=1}^{Nc} {n}_{l} {r}_{l}}$"
      ],
      "text/plain": [
       "n[k]*r[k]/Sum(n[l]*r[l], (l, 1, Nc))"
      ]
     },
     "execution_count": 3,
     "metadata": {},
     "output_type": "execute_result"
    }
   ],
   "source": [
    "phi = n[k] * r[k] / sp.summation(n[l] * r[l], (l, 1, nc))\n",
    "\n",
    "phi"
   ]
  },
  {
   "cell_type": "code",
   "execution_count": 4,
   "id": "f76829f5",
   "metadata": {},
   "outputs": [
    {
     "data": {
      "text/latex": [
       "$\\displaystyle \\frac{\\delta_{i k} {r}_{k}}{\\sum_{l=1}^{Nc} {n}_{l} {r}_{l}} - \\frac{{n}_{k} {r}_{k} \\sum_{l=1}^{Nc} \\delta_{i l} {r}_{l}}{\\left(\\sum_{l=1}^{Nc} {n}_{l} {r}_{l}\\right)^{2}}$"
      ],
      "text/plain": [
       "KroneckerDelta(i, k)*r[k]/Sum(n[l]*r[l], (l, 1, Nc)) - n[k]*r[k]*Sum(KroneckerDelta(i, l)*r[l], (l, 1, Nc))/Sum(n[l]*r[l], (l, 1, Nc))**2"
      ]
     },
     "execution_count": 4,
     "metadata": {},
     "output_type": "execute_result"
    }
   ],
   "source": [
    "exp = sp.diff(phi, n[i])\n",
    "\n",
    "exp"
   ]
  },
  {
   "cell_type": "code",
   "execution_count": 6,
   "id": "45d46eb0",
   "metadata": {},
   "outputs": [],
   "source": [
    "def simplify_kronecker(expr):\n",
    "    # Primero evaluamos sumatorias con deltas adentro\n",
    "    expr = expr.replace(\n",
    "        lambda x: isinstance(x, sp.Sum) and any(isinstance(arg, sp.KroneckerDelta) for arg in sp.preorder_traversal(x.function)),\n",
    "        lambda x: simplify_sum_with_kronecker(x)\n",
    "    )\n",
    "    # Luego transformamos deltas sueltos en Piecewise\n",
    "    # expr = expr.replace(\n",
    "    #     sp.KroneckerDelta,\n",
    "    #     lambda i, j: sp.Piecewise((1, sp.Eq(i, j)), (0, True))\n",
    "    # )\n",
    "\n",
    "    return expr\n",
    "\n",
    "def simplify_sum_with_kronecker(sum_expr):\n",
    "    \"\"\"Transforma sumatorias del estilo Sum(δ_il * f(l), (l, 1, Nc)) en f(i)\"\"\"\n",
    "    idx = sum_expr.variables[0]\n",
    "    f = sum_expr.function\n",
    "\n",
    "    if not isinstance(f, sp.Mul):\n",
    "        return sum_expr\n",
    "\n",
    "    # Buscar sp.KroneckerDelta en el producto\n",
    "    for arg in f.args:\n",
    "        if isinstance(arg, sp.KroneckerDelta):\n",
    "            delta = arg\n",
    "            other_terms = sp.Mul(*[a for a in f.args if a != delta])\n",
    "            i, j = delta.args\n",
    "            # Determinar cuál es la variable de suma\n",
    "            if i == idx:\n",
    "                return other_terms.subs(idx, j)\n",
    "            elif j == idx:\n",
    "                return other_terms.subs(idx, i)\n",
    "\n",
    "    return sum_expr\n"
   ]
  },
  {
   "cell_type": "code",
   "execution_count": 8,
   "id": "ba675dd1",
   "metadata": {},
   "outputs": [],
   "source": [
    "dedn = simplify_kronecker(exp)"
   ]
  },
  {
   "cell_type": "code",
   "execution_count": 9,
   "id": "72b022a9",
   "metadata": {},
   "outputs": [],
   "source": [
    "dedn2 = sp.diff(dedn, n[j])"
   ]
  },
  {
   "cell_type": "code",
   "execution_count": 12,
   "id": "adcbe7c3",
   "metadata": {},
   "outputs": [],
   "source": [
    "dedn2 = simplify_kronecker(dedn2)"
   ]
  },
  {
   "cell_type": "code",
   "execution_count": 15,
   "id": "60f5dc45",
   "metadata": {},
   "outputs": [
    {
     "data": {
      "text/latex": [
       "$\\displaystyle - \\frac{\\delta_{i k} {r}_{j} {r}_{k}}{\\left(\\sum_{l=1}^{Nc} {n}_{l} {r}_{l}\\right)^{2}} - \\frac{\\delta_{j k} {r}_{i} {r}_{k}}{\\left(\\sum_{l=1}^{Nc} {n}_{l} {r}_{l}\\right)^{2}} + \\frac{2 {n}_{k} {r}_{i} {r}_{j} {r}_{k}}{\\left(\\sum_{l=1}^{Nc} {n}_{l} {r}_{l}\\right)^{3}}$"
      ],
      "text/plain": [
       "-KroneckerDelta(i, k)*r[j]*r[k]/Sum(n[l]*r[l], (l, 1, Nc))**2 - KroneckerDelta(j, k)*r[i]*r[k]/Sum(n[l]*r[l], (l, 1, Nc))**2 + 2*n[k]*r[i]*r[j]*r[k]/Sum(n[l]*r[l], (l, 1, Nc))**3"
      ]
     },
     "execution_count": 15,
     "metadata": {},
     "output_type": "execute_result"
    }
   ],
   "source": [
    "dedn2"
   ]
  },
  {
   "cell_type": "code",
   "execution_count": 16,
   "id": "58f75830",
   "metadata": {},
   "outputs": [
    {
     "data": {
      "text/latex": [
       "$\\displaystyle \\frac{2 {n}_{i} {r}_{i}^{2} {r}_{j}}{\\left(\\sum_{l=1}^{Nc} {n}_{l} {r}_{l}\\right)^{3}} - \\frac{{r}_{i} {r}_{j}}{\\left(\\sum_{l=1}^{Nc} {n}_{l} {r}_{l}\\right)^{2}}$"
      ],
      "text/plain": [
       "2*n[i]*r[i]**2*r[j]/Sum(n[l]*r[l], (l, 1, Nc))**3 - r[i]*r[j]/Sum(n[l]*r[l], (l, 1, Nc))**2"
      ]
     },
     "execution_count": 16,
     "metadata": {},
     "output_type": "execute_result"
    }
   ],
   "source": [
    "dedn2.subs(k, i).subs(sp.KroneckerDelta(i, j), 0)"
   ]
  }
 ],
 "metadata": {
  "kernelspec": {
   "display_name": "thermodiff",
   "language": "python",
   "name": "python3"
  },
  "language_info": {
   "codemirror_mode": {
    "name": "ipython",
    "version": 3
   },
   "file_extension": ".py",
   "mimetype": "text/x-python",
   "name": "python",
   "nbconvert_exporter": "python",
   "pygments_lexer": "ipython3",
   "version": "3.12.10"
  }
 },
 "nbformat": 4,
 "nbformat_minor": 5
}

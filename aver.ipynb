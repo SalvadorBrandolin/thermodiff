{
 "cells": [
  {
   "cell_type": "code",
   "execution_count": 1,
   "id": "cc9bf0af",
   "metadata": {},
   "outputs": [],
   "source": [
    "from thermodiff import nc, i, j, k, l, n, T, V\n",
    "\n",
    "import thermodiff as td\n",
    "\n",
    "import sympy as sp"
   ]
  },
  {
   "cell_type": "code",
   "execution_count": 2,
   "id": "2f17d351",
   "metadata": {},
   "outputs": [
    {
     "data": {
      "text/latex": [
       "$\\displaystyle \\sum_{k=1}^{N_{c}} \\phi{\\left({n}_{k} \\right)} {n}_{k}$"
      ],
      "text/plain": [
       "Sum(\\phi(n[k])*n[k], (k, 1, N_c))"
      ]
     },
     "execution_count": 2,
     "metadata": {},
     "output_type": "execute_result"
    }
   ],
   "source": [
    "phi_k = td.IdxFunction(r\"\\phi\")(n[k])\n",
    "\n",
    "expr = td.SumComponents(phi_k * n[k], k)\n",
    "\n",
    "expr"
   ]
  },
  {
   "cell_type": "code",
   "execution_count": 3,
   "id": "405f9fda",
   "metadata": {},
   "outputs": [
    {
     "data": {
      "text/latex": [
       "$\\displaystyle \\phi{\\left({n}_{i} \\right)} + \\sum_{k=1}^{N_{c}} \\frac{\\partial}{\\partial {n}_{i}} \\phi{\\left({n}_{k} \\right)} {n}_{k}$"
      ],
      "text/plain": [
       "\\phi(n[i]) + Sum(Derivative(\\phi(n[k]), n[i])*n[k], (k, 1, N_c))"
      ]
     },
     "execution_count": 3,
     "metadata": {},
     "output_type": "execute_result"
    }
   ],
   "source": [
    "diff = td.handle_sum_kronecker(sp.diff(expr, n[i]), i)\n",
    "\n",
    "diff"
   ]
  },
  {
   "cell_type": "code",
   "execution_count": 4,
   "id": "8235f1b1",
   "metadata": {},
   "outputs": [
    {
     "data": {
      "text/latex": [
       "$\\displaystyle \\frac{\\partial}{\\partial {n}_{j}} \\phi{\\left({n}_{i} \\right)} + \\frac{\\partial}{\\partial {n}_{i}} \\phi{\\left({n}_{j} \\right)} + \\sum_{k=1}^{N_{c}} \\frac{\\partial^{2}}{\\partial {n}_{j}\\partial {n}_{i}} \\phi{\\left({n}_{k} \\right)} {n}_{k}$"
      ],
      "text/plain": [
       "Derivative(\\phi(n[i]), n[j]) + Derivative(\\phi(n[j]), n[i]) + Sum(Derivative(\\phi(n[k]), n[i], n[j])*n[k], (k, 1, N_c))"
      ]
     },
     "execution_count": 4,
     "metadata": {},
     "output_type": "execute_result"
    }
   ],
   "source": [
    "td.handle_sum_kronecker(sp.diff(diff, n[j]), j)"
   ]
  },
  {
   "cell_type": "code",
   "execution_count": 5,
   "id": "0e1a9889",
   "metadata": {},
   "outputs": [],
   "source": [
    "r = sp.IndexedBase(\"r\")"
   ]
  },
  {
   "cell_type": "code",
   "execution_count": 6,
   "id": "1abb3bd6",
   "metadata": {},
   "outputs": [],
   "source": [
    "f = n[k] * r[k] / (td.SumComponents(n[l] * r[l], l))"
   ]
  },
  {
   "cell_type": "code",
   "execution_count": 7,
   "id": "5ec90f75",
   "metadata": {},
   "outputs": [
    {
     "data": {
      "text/latex": [
       "$\\displaystyle \\frac{{n}_{k} {r}_{k}}{\\sum_{l=1}^{N_{c}} {n}_{l} {r}_{l}}$"
      ],
      "text/plain": [
       "n[k]*r[k]/Sum(n[l]*r[l], (l, 1, N_c))"
      ]
     },
     "execution_count": 7,
     "metadata": {},
     "output_type": "execute_result"
    }
   ],
   "source": [
    "f"
   ]
  },
  {
   "cell_type": "code",
   "execution_count": 8,
   "id": "b27b07f1",
   "metadata": {},
   "outputs": [
    {
     "data": {
      "text/latex": [
       "$\\displaystyle \\frac{\\delta_{i k} {r}_{k}}{\\sum_{l=1}^{N_{c}} {n}_{l} {r}_{l}} - \\frac{{n}_{k} {r}_{i} {r}_{k}}{\\left(\\sum_{l=1}^{N_{c}} {n}_{l} {r}_{l}\\right)^{2}}$"
      ],
      "text/plain": [
       "KroneckerDelta(i, k)*r[k]/Sum(n[l]*r[l], (l, 1, N_c)) - n[k]*r[i]*r[k]/Sum(n[l]*r[l], (l, 1, N_c))**2"
      ]
     },
     "execution_count": 8,
     "metadata": {},
     "output_type": "execute_result"
    }
   ],
   "source": [
    "diffdown = td.handle_sum_kronecker(sp.diff(f, n[i]), i)\n",
    "\n",
    "diffdown"
   ]
  },
  {
   "cell_type": "code",
   "execution_count": 9,
   "id": "626eeea5",
   "metadata": {},
   "outputs": [
    {
     "data": {
      "text/latex": [
       "$\\displaystyle \\begin{cases} - \\frac{{n}_{i} {r}_{i}^{2}}{\\left(\\sum_{l=1}^{N_{c}} {n}_{l} {r}_{l}\\right)^{2}} + \\frac{{r}_{i}}{\\sum_{l=1}^{N_{c}} {n}_{l} {r}_{l}} & \\text{for}\\: i = k \\\\- \\frac{{n}_{k} {r}_{i} {r}_{k}}{\\left(\\sum_{l=1}^{N_{c}} {n}_{l} {r}_{l}\\right)^{2}} & \\text{otherwise} \\end{cases}$"
      ],
      "text/plain": [
       "Piecewise((-n[i]*r[i]**2/Sum(n[l]*r[l], (l, 1, N_c))**2 + r[i]/Sum(n[l]*r[l], (l, 1, N_c)), Eq(i, k)), (-n[k]*r[i]*r[k]/Sum(n[l]*r[l], (l, 1, N_c))**2, True))"
      ]
     },
     "execution_count": 9,
     "metadata": {},
     "output_type": "execute_result"
    }
   ],
   "source": [
    "diffposta = td.handle_free_kronecker(diffdown, k, i)\n",
    "\n",
    "diffposta"
   ]
  },
  {
   "cell_type": "code",
   "execution_count": 10,
   "id": "081bc213",
   "metadata": {},
   "outputs": [],
   "source": [
    "arriba = diffposta.args[0][0]\n",
    "abajo = diffposta.args[1][0]\n"
   ]
  },
  {
   "cell_type": "code",
   "execution_count": 11,
   "id": "0b81ece8",
   "metadata": {},
   "outputs": [],
   "source": [
    "diff_arriba = sp.diff(arriba, n[j])\n",
    "\n",
    "diff_arriba = td.handle_sum_kronecker(diff_arriba, j)\n",
    "\n",
    "diff_arriba = td.handle_free_kronecker(diff_arriba, k, j)\n",
    "diff_arriba = td.handle_free_kronecker(diff_arriba, j, i)"
   ]
  },
  {
   "cell_type": "code",
   "execution_count": 12,
   "id": "0f4b5f67",
   "metadata": {},
   "outputs": [
    {
     "data": {
      "text/latex": [
       "$\\displaystyle \\begin{cases} \\frac{2 {n}_{i} {r}_{i}^{3}}{\\left(\\sum_{l=1}^{N_{c}} {n}_{l} {r}_{l}\\right)^{3}} - \\frac{2 {r}_{i}^{2}}{\\left(\\sum_{l=1}^{N_{c}} {n}_{l} {r}_{l}\\right)^{2}} & \\text{for}\\: i = j \\\\\\frac{2 {n}_{i} {r}_{i}^{2} {r}_{j}}{\\left(\\sum_{l=1}^{N_{c}} {n}_{l} {r}_{l}\\right)^{3}} - \\frac{{r}_{i} {r}_{j}}{\\left(\\sum_{l=1}^{N_{c}} {n}_{l} {r}_{l}\\right)^{2}} & \\text{otherwise} \\end{cases}$"
      ],
      "text/plain": [
       "Piecewise((2*n[i]*r[i]**3/Sum(n[l]*r[l], (l, 1, N_c))**3 - 2*r[i]**2/Sum(n[l]*r[l], (l, 1, N_c))**2, Eq(i, j)), (2*n[i]*r[i]**2*r[j]/Sum(n[l]*r[l], (l, 1, N_c))**3 - r[i]*r[j]/Sum(n[l]*r[l], (l, 1, N_c))**2, True))"
      ]
     },
     "execution_count": 12,
     "metadata": {},
     "output_type": "execute_result"
    }
   ],
   "source": [
    "diff_arriba"
   ]
  },
  {
   "cell_type": "code",
   "execution_count": 13,
   "id": "a74e30ea",
   "metadata": {},
   "outputs": [],
   "source": [
    "diff_abajo = sp.diff(abajo, n[j])\n",
    "\n",
    "diff_abajo = td.handle_sum_kronecker(diff_abajo, j)\n",
    "\n",
    "diff_abajo = td.handle_free_kronecker(diff_abajo, k, j)\n",
    "diff_abajo = td.handle_free_kronecker(diff_abajo, j, i)"
   ]
  },
  {
   "cell_type": "code",
   "execution_count": 14,
   "id": "f1c26b38",
   "metadata": {},
   "outputs": [
    {
     "data": {
      "text/latex": [
       "$\\displaystyle \\begin{cases} \\frac{2 {n}_{j} {r}_{i} {r}_{j}^{2}}{\\left(\\sum_{l=1}^{N_{c}} {n}_{l} {r}_{l}\\right)^{3}} - \\frac{{r}_{i} {r}_{j}}{\\left(\\sum_{l=1}^{N_{c}} {n}_{l} {r}_{l}\\right)^{2}} & \\text{for}\\: j = k \\\\\\frac{2 {n}_{k} {r}_{i} {r}_{j} {r}_{k}}{\\left(\\sum_{l=1}^{N_{c}} {n}_{l} {r}_{l}\\right)^{3}} & \\text{otherwise} \\end{cases}$"
      ],
      "text/plain": [
       "Piecewise((2*n[j]*r[i]*r[j]**2/Sum(n[l]*r[l], (l, 1, N_c))**3 - r[i]*r[j]/Sum(n[l]*r[l], (l, 1, N_c))**2, Eq(j, k)), (2*n[k]*r[i]*r[j]*r[k]/Sum(n[l]*r[l], (l, 1, N_c))**3, True))"
      ]
     },
     "execution_count": 14,
     "metadata": {},
     "output_type": "execute_result"
    }
   ],
   "source": [
    "diff_abajo"
   ]
  }
 ],
 "metadata": {
  "kernelspec": {
   "display_name": "thermodiff",
   "language": "python",
   "name": "python3"
  },
  "language_info": {
   "codemirror_mode": {
    "name": "ipython",
    "version": 3
   },
   "file_extension": ".py",
   "mimetype": "text/x-python",
   "name": "python",
   "nbconvert_exporter": "python",
   "pygments_lexer": "ipython3",
   "version": "3.12.10"
  }
 },
 "nbformat": 4,
 "nbformat_minor": 5
}

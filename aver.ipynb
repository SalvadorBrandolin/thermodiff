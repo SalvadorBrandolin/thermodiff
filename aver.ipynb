{
 "cells": [
  {
   "cell_type": "code",
   "execution_count": 1,
   "id": "603305f8",
   "metadata": {},
   "outputs": [],
   "source": [
    "from thermodiff import n, P, V, T  # mole number vector, pressure, volume, temperature\n",
    "from thermodiff import k, l, m     # indexes\n",
    "from thermodiff import R           # universal gas constant\n",
    "\n",
    "import thermodiff as td\n",
    "\n",
    "import sympy as sp  # we still could need sympy"
   ]
  },
  {
   "cell_type": "code",
   "execution_count": 2,
   "id": "49f26bbd",
   "metadata": {},
   "outputs": [
    {
     "data": {
      "text/latex": [
       "$\\displaystyle R T \\left(\\frac{3 \\left(Y{\\left({n}_{k},V,T \\right)} - 1\\right) \\lambda_{1}{\\left({n}_{k},T \\right)} \\lambda_{2}{\\left({n}_{k},T \\right)}}{\\lambda_{3}{\\left({n}_{k},T \\right)}} + \\frac{\\left(Y^{2}{\\left({n}_{k},V,T \\right)} - Y{\\left({n}_{k},V,T \\right)} - \\log{\\left(Y{\\left({n}_{k},V,T \\right)} \\right)}\\right) \\lambda_{2}^{3}{\\left({n}_{k},T \\right)}}{\\lambda_{3}^{2}{\\left({n}_{k},T \\right)}} + \\log{\\left(Y{\\left({n}_{k},V,T \\right)} \\right)} \\sum_{k=1}^{N_{c}} {n}_{k}\\right)$"
      ],
      "text/plain": [
       "R*T*(3*(Y(n[k], V, T) - 1)*\\lambda_1(n[k], T)*\\lambda_2(n[k], T)/\\lambda_3(n[k], T) + (Y(n[k], V, T)**2 - Y(n[k], V, T) - log(Y(n[k], V, T)))*\\lambda_2(n[k], T)**3/\\lambda_3(n[k], T)**2 + log(Y(n[k], V, T))*Sum(n[k], (k, 1, N_c)))"
      ]
     },
     "execution_count": 2,
     "metadata": {},
     "output_type": "execute_result"
    }
   ],
   "source": [
    "dc = sp.symbols('d_c', cls=sp.IndexedBase)\n",
    "Tc = sp.symbols('T_c', cls=sp.IndexedBase)\n",
    "kdci1 = sp.symbols('1.065655', cls=sp.IndexedBase)\n",
    "kdci2 = sp.symbols('0.12', cls=sp.IndexedBase)\n",
    "\n",
    "# di = kdci1 * dc[i] * (1 - kdci2 * sp.exp(-2*Tc[i]/(3*T))) Esto me la soba, esas derivadas se hacen por separado con mi API\n",
    "dk = td.idx_function(\"d_k\")(n[k], T)\n",
    "\n",
    "# lambd1 = td.sum_components(n[k] * dk, k) Nos la soba la hacemos por separado\n",
    "# lambd2 = td.sum_components(n[k] * dk**2, k) Nos la soba la hacemos por separado\n",
    "# lambd3 = td.sum_components(n[k] * dk**3, k) Nos la soba la hacemos por separado\n",
    "# Y = (1 - sp.pi * lambd3/(6*V))**(-1) Me la recaga sobando, por separado\n",
    "\n",
    "lambd1 = td.idx_function(r\"\\lambda_1\")(n[k], T)\n",
    "lambd2 = td.idx_function(r\"\\lambda_2\")(n[k], T)\n",
    "lambd3 = td.idx_function(r\"\\lambda_3\")(n[k], T)\n",
    "Y = td.idx_function(r\"Y\")(n[k], V, T)\n",
    "\n",
    "\n",
    "Ar = (3 * (lambd1 * lambd2/lambd3) * (Y-1) + (lambd2**3/lambd3**2) * (-Y + Y**2 - sp.log(Y)) + td.sum_components(n[k], k) * sp.log(Y))*(R*T)\n",
    "\n",
    "Ar"
   ]
  },
  {
   "cell_type": "code",
   "execution_count": 3,
   "id": "ff7c8b79",
   "metadata": {},
   "outputs": [],
   "source": [
    "ar_diff = td.DiffPlz(Ar, internal_functions=[lambd1, lambd2, lambd3, Y], name=\"A\")"
   ]
  },
  {
   "cell_type": "code",
   "execution_count": 4,
   "id": "507433dd",
   "metadata": {},
   "outputs": [
    {
     "data": {
      "text/latex": [
       "$\\displaystyle R T \\left(- \\frac{3 \\left(Y{\\left({n}_{k},V,T \\right)} - 1\\right) \\lambda_{1}{\\left({n}_{k},T \\right)} \\lambda_{2}{\\left({n}_{k},T \\right)} \\frac{\\partial}{\\partial T} \\lambda_{3}{\\left({n}_{k},T \\right)}}{\\lambda_{3}^{2}{\\left({n}_{k},T \\right)}} + \\frac{3 \\left(Y{\\left({n}_{k},V,T \\right)} - 1\\right) \\lambda_{1}{\\left({n}_{k},T \\right)} \\frac{\\partial}{\\partial T} \\lambda_{2}{\\left({n}_{k},T \\right)}}{\\lambda_{3}{\\left({n}_{k},T \\right)}} + \\frac{3 \\left(Y{\\left({n}_{k},V,T \\right)} - 1\\right) \\lambda_{2}{\\left({n}_{k},T \\right)} \\frac{\\partial}{\\partial T} \\lambda_{1}{\\left({n}_{k},T \\right)}}{\\lambda_{3}{\\left({n}_{k},T \\right)}} + \\frac{\\left(2 Y{\\left({n}_{k},V,T \\right)} \\frac{\\partial}{\\partial T} Y{\\left({n}_{k},V,T \\right)} - \\frac{\\partial}{\\partial T} Y{\\left({n}_{k},V,T \\right)} - \\frac{\\frac{\\partial}{\\partial T} Y{\\left({n}_{k},V,T \\right)}}{Y{\\left({n}_{k},V,T \\right)}}\\right) \\lambda_{2}^{3}{\\left({n}_{k},T \\right)}}{\\lambda_{3}^{2}{\\left({n}_{k},T \\right)}} - \\frac{2 \\left(Y^{2}{\\left({n}_{k},V,T \\right)} - Y{\\left({n}_{k},V,T \\right)} - \\log{\\left(Y{\\left({n}_{k},V,T \\right)} \\right)}\\right) \\lambda_{2}^{3}{\\left({n}_{k},T \\right)} \\frac{\\partial}{\\partial T} \\lambda_{3}{\\left({n}_{k},T \\right)}}{\\lambda_{3}^{3}{\\left({n}_{k},T \\right)}} + \\frac{3 \\left(Y^{2}{\\left({n}_{k},V,T \\right)} - Y{\\left({n}_{k},V,T \\right)} - \\log{\\left(Y{\\left({n}_{k},V,T \\right)} \\right)}\\right) \\lambda_{2}^{2}{\\left({n}_{k},T \\right)} \\frac{\\partial}{\\partial T} \\lambda_{2}{\\left({n}_{k},T \\right)}}{\\lambda_{3}^{2}{\\left({n}_{k},T \\right)}} + \\frac{3 \\lambda_{1}{\\left({n}_{k},T \\right)} \\lambda_{2}{\\left({n}_{k},T \\right)} \\frac{\\partial}{\\partial T} Y{\\left({n}_{k},V,T \\right)}}{\\lambda_{3}{\\left({n}_{k},T \\right)}} + \\frac{\\frac{\\partial}{\\partial T} Y{\\left({n}_{k},V,T \\right)} \\sum_{k=1}^{N_{c}} {n}_{k}}{Y{\\left({n}_{k},V,T \\right)}}\\right) + R \\left(\\frac{3 \\left(Y{\\left({n}_{k},V,T \\right)} - 1\\right) \\lambda_{1}{\\left({n}_{k},T \\right)} \\lambda_{2}{\\left({n}_{k},T \\right)}}{\\lambda_{3}{\\left({n}_{k},T \\right)}} + \\frac{\\left(Y^{2}{\\left({n}_{k},V,T \\right)} - Y{\\left({n}_{k},V,T \\right)} - \\log{\\left(Y{\\left({n}_{k},V,T \\right)} \\right)}\\right) \\lambda_{2}^{3}{\\left({n}_{k},T \\right)}}{\\lambda_{3}^{2}{\\left({n}_{k},T \\right)}} + \\log{\\left(Y{\\left({n}_{k},V,T \\right)} \\right)} \\sum_{k=1}^{N_{c}} {n}_{k}\\right)$"
      ],
      "text/plain": [
       "R*T*(-3*(Y(n[k], V, T) - 1)*\\lambda_1(n[k], T)*\\lambda_2(n[k], T)*Derivative(\\lambda_3(n[k], T), T)/\\lambda_3(n[k], T)**2 + 3*(Y(n[k], V, T) - 1)*\\lambda_1(n[k], T)*Derivative(\\lambda_2(n[k], T), T)/\\lambda_3(n[k], T) + 3*(Y(n[k], V, T) - 1)*\\lambda_2(n[k], T)*Derivative(\\lambda_1(n[k], T), T)/\\lambda_3(n[k], T) + (2*Y(n[k], V, T)*Derivative(Y(n[k], V, T), T) - Derivative(Y(n[k], V, T), T) - Derivative(Y(n[k], V, T), T)/Y(n[k], V, T))*\\lambda_2(n[k], T)**3/\\lambda_3(n[k], T)**2 - 2*(Y(n[k], V, T)**2 - Y(n[k], V, T) - log(Y(n[k], V, T)))*\\lambda_2(n[k], T)**3*Derivative(\\lambda_3(n[k], T), T)/\\lambda_3(n[k], T)**3 + 3*(Y(n[k], V, T)**2 - Y(n[k], V, T) - log(Y(n[k], V, T)))*\\lambda_2(n[k], T)**2*Derivative(\\lambda_2(n[k], T), T)/\\lambda_3(n[k], T)**2 + 3*\\lambda_1(n[k], T)*\\lambda_2(n[k], T)*Derivative(Y(n[k], V, T), T)/\\lambda_3(n[k], T) + Derivative(Y(n[k], V, T), T)*Sum(n[k], (k, 1, N_c))/Y(n[k], V, T)) + R*(3*(Y(n[k], V, T) - 1)*\\lambda_1(n[k], T)*\\lambda_2(n[k], T)/\\lambda_3(n[k], T) + (Y(n[k], V, T)**2 - Y(n[k], V, T) - log(Y(n[k], V, T)))*\\lambda_2(n[k], T)**3/\\lambda_3(n[k], T)**2 + log(Y(n[k], V, T))*Sum(n[k], (k, 1, N_c)))"
      ]
     },
     "execution_count": 4,
     "metadata": {},
     "output_type": "execute_result"
    }
   ],
   "source": [
    "ar_diff.dt"
   ]
  },
  {
   "cell_type": "code",
   "execution_count": 5,
   "id": "dbe3a81a",
   "metadata": {},
   "outputs": [
    {
     "data": {
      "text/latex": [
       "$\\displaystyle R T \\left(- \\frac{3 \\left(Y{\\left({n}_{k},V,T \\right)} - 1\\right) \\lambda_{1}{\\left({n}_{k},T \\right)} \\lambda_{2}{\\left({n}_{k},T \\right)} \\frac{\\partial}{\\partial T} \\lambda_{3}{\\left({n}_{k},T \\right)}}{\\lambda_{3}^{2}{\\left({n}_{k},T \\right)}} + \\frac{3 \\left(Y{\\left({n}_{k},V,T \\right)} - 1\\right) \\lambda_{1}{\\left({n}_{k},T \\right)} \\frac{\\partial}{\\partial T} \\lambda_{2}{\\left({n}_{k},T \\right)}}{\\lambda_{3}{\\left({n}_{k},T \\right)}} + \\frac{3 \\left(Y{\\left({n}_{k},V,T \\right)} - 1\\right) \\lambda_{2}{\\left({n}_{k},T \\right)} \\frac{\\partial}{\\partial T} \\lambda_{1}{\\left({n}_{k},T \\right)}}{\\lambda_{3}{\\left({n}_{k},T \\right)}} + \\frac{\\left(2 Y{\\left({n}_{k},V,T \\right)} \\frac{\\partial}{\\partial T} Y{\\left({n}_{k},V,T \\right)} - \\frac{\\partial}{\\partial T} Y{\\left({n}_{k},V,T \\right)} - \\frac{\\frac{\\partial}{\\partial T} Y{\\left({n}_{k},V,T \\right)}}{Y{\\left({n}_{k},V,T \\right)}}\\right) \\lambda_{2}^{3}{\\left({n}_{k},T \\right)}}{\\lambda_{3}^{2}{\\left({n}_{k},T \\right)}} - \\frac{2 \\left(Y^{2}{\\left({n}_{k},V,T \\right)} - Y{\\left({n}_{k},V,T \\right)} - \\log{\\left(Y{\\left({n}_{k},V,T \\right)} \\right)}\\right) \\lambda_{2}^{3}{\\left({n}_{k},T \\right)} \\frac{\\partial}{\\partial T} \\lambda_{3}{\\left({n}_{k},T \\right)}}{\\lambda_{3}^{3}{\\left({n}_{k},T \\right)}} + \\frac{3 \\left(Y^{2}{\\left({n}_{k},V,T \\right)} - Y{\\left({n}_{k},V,T \\right)} - \\log{\\left(Y{\\left({n}_{k},V,T \\right)} \\right)}\\right) \\lambda_{2}^{2}{\\left({n}_{k},T \\right)} \\frac{\\partial}{\\partial T} \\lambda_{2}{\\left({n}_{k},T \\right)}}{\\lambda_{3}^{2}{\\left({n}_{k},T \\right)}} + \\frac{3 \\lambda_{1}{\\left({n}_{k},T \\right)} \\lambda_{2}{\\left({n}_{k},T \\right)} \\frac{\\partial}{\\partial T} Y{\\left({n}_{k},V,T \\right)}}{\\lambda_{3}{\\left({n}_{k},T \\right)}} + \\frac{\\frac{\\partial}{\\partial T} Y{\\left({n}_{k},V,T \\right)} \\sum_{k=1}^{N_{c}} {n}_{k}}{Y{\\left({n}_{k},V,T \\right)}}\\right) + \\frac{A{\\left(n,V,T \\right)}}{T}$"
      ],
      "text/plain": [
       "R*T*(-3*(Y(n[k], V, T) - 1)*\\lambda_1(n[k], T)*\\lambda_2(n[k], T)*Derivative(\\lambda_3(n[k], T), T)/\\lambda_3(n[k], T)**2 + 3*(Y(n[k], V, T) - 1)*\\lambda_1(n[k], T)*Derivative(\\lambda_2(n[k], T), T)/\\lambda_3(n[k], T) + 3*(Y(n[k], V, T) - 1)*\\lambda_2(n[k], T)*Derivative(\\lambda_1(n[k], T), T)/\\lambda_3(n[k], T) + (2*Y(n[k], V, T)*Derivative(Y(n[k], V, T), T) - Derivative(Y(n[k], V, T), T) - Derivative(Y(n[k], V, T), T)/Y(n[k], V, T))*\\lambda_2(n[k], T)**3/\\lambda_3(n[k], T)**2 - 2*(Y(n[k], V, T)**2 - Y(n[k], V, T) - log(Y(n[k], V, T)))*\\lambda_2(n[k], T)**3*Derivative(\\lambda_3(n[k], T), T)/\\lambda_3(n[k], T)**3 + 3*(Y(n[k], V, T)**2 - Y(n[k], V, T) - log(Y(n[k], V, T)))*\\lambda_2(n[k], T)**2*Derivative(\\lambda_2(n[k], T), T)/\\lambda_3(n[k], T)**2 + 3*\\lambda_1(n[k], T)*\\lambda_2(n[k], T)*Derivative(Y(n[k], V, T), T)/\\lambda_3(n[k], T) + Derivative(Y(n[k], V, T), T)*Sum(n[k], (k, 1, N_c))/Y(n[k], V, T)) + A(n, V, T)/T"
      ]
     },
     "execution_count": 5,
     "metadata": {},
     "output_type": "execute_result"
    }
   ],
   "source": [
    "ar_diff.clean_plz()\n",
    "\n",
    "ar_diff.dt"
   ]
  },
  {
   "cell_type": "code",
   "execution_count": 6,
   "id": "a0ac8b0c",
   "metadata": {},
   "outputs": [
    {
     "name": "stdout",
     "output_type": "stream",
     "text": [
      "R T \\left(\\frac{3 \\frac{\\partial Y}{\\partial T} \\lambda_{1}{} \\lambda_{2}{}}{\\lambda_{3}{}} + \\frac{\\frac{\\partial Y}{\\partial T} \\sum_{k=1}^{N_{c}} {n}_{k}}{Y{}} + \\frac{3 \\frac{\\partial \\lambda_{1}}{\\partial T} \\left(Y{} - 1\\right) \\lambda_{2}{}}{\\lambda_{3}{}} + \\frac{3 \\frac{\\partial \\lambda_{2}}{\\partial T} \\left(Y{} - 1\\right) \\lambda_{1}{}}{\\lambda_{3}{}} + \\frac{3 \\frac{\\partial \\lambda_{2}}{\\partial T} \\left(Y^{2}{} - Y{} - \\log{\\left(Y{} \\right)}\\right) \\lambda_{2}^{2}{}}{\\lambda_{3}^{2}{}} - \\frac{3 \\frac{\\partial \\lambda_{3}}{\\partial T} \\left(Y{} - 1\\right) \\lambda_{1}{} \\lambda_{2}{}}{\\lambda_{3}^{2}{}} - \\frac{2 \\frac{\\partial \\lambda_{3}}{\\partial T} \\left(Y^{2}{} - Y{} - \\log{\\left(Y{} \\right)}\\right) \\lambda_{2}^{3}{}}{\\lambda_{3}^{3}{}} + \\frac{\\left(2 \\frac{\\partial Y}{\\partial T} Y{} - \\frac{\\partial Y}{\\partial T} - \\frac{\\frac{\\partial Y}{\\partial T}}{Y{}}\\right) \\lambda_{2}^{3}{}}{\\lambda_{3}^{2}{}}\\right) + \\frac{A{\\left(n,V,T \\right)}}{T}\n"
     ]
    }
   ],
   "source": [
    "print(ar_diff.latex_readable_plz())"
   ]
  },
  {
   "cell_type": "markdown",
   "id": "1d22116a",
   "metadata": {},
   "source": [
    "$$\n",
    "R T \\left(\\frac{3 \\frac{\\partial Y}{\\partial T} \\lambda_{1}{} \\lambda_{2}{}}{\\lambda_{3}{}} + \\frac{\\frac{\\partial Y}{\\partial T} \\sum_{k=1}^{N_{c}} {n}_{k}}{Y{}} + \\frac{3 \\frac{\\partial \\lambda_{1}}{\\partial T} \\left(Y{} - 1\\right) \\lambda_{2}{}}{\\lambda_{3}{}} + \\frac{3 \\frac{\\partial \\lambda_{2}}{\\partial T} \\left(Y{} - 1\\right) \\lambda_{1}{}}{\\lambda_{3}{}} + \\frac{3 \\frac{\\partial \\lambda_{2}}{\\partial T} \\left(Y^{2}{} - Y{} - \\log{\\left(Y{} \\right)}\\right) \\lambda_{2}^{2}{}}{\\lambda_{3}^{2}{}} - \\frac{3 \\frac{\\partial \\lambda_{3}}{\\partial T} \\left(Y{} - 1\\right) \\lambda_{1}{} \\lambda_{2}{}}{\\lambda_{3}^{2}{}} - \\frac{2 \\frac{\\partial \\lambda_{3}}{\\partial T} \\left(Y^{2}{} - Y{} - \\log{\\left(Y{} \\right)}\\right) \\lambda_{2}^{3}{}}{\\lambda_{3}^{3}{}} + \\frac{\\left(2 \\frac{\\partial Y}{\\partial T} Y{} - \\frac{\\partial Y}{\\partial T} - \\frac{\\frac{\\partial Y}{\\partial T}}{Y{}}\\right) \\lambda_{2}^{3}{}}{\\lambda_{3}^{2}{}}\\right) + \\frac{A{\\left(n,V,T \\right)}}{T}\n",
    "$$"
   ]
  }
 ],
 "metadata": {
  "kernelspec": {
   "display_name": "thermodiff",
   "language": "python",
   "name": "python3"
  },
  "language_info": {
   "codemirror_mode": {
    "name": "ipython",
    "version": 3
   },
   "file_extension": ".py",
   "mimetype": "text/x-python",
   "name": "python",
   "nbconvert_exporter": "python",
   "pygments_lexer": "ipython3",
   "version": "3.12.10"
  }
 },
 "nbformat": 4,
 "nbformat_minor": 5
}
